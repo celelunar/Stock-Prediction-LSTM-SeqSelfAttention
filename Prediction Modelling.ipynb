{
  "nbformat": 4,
  "nbformat_minor": 0,
  "metadata": {
    "colab": {
      "provenance": [],
      "gpuType": "V100",
      "include_colab_link": true
    },
    "kernelspec": {
      "name": "python3",
      "display_name": "Python 3"
    },
    "language_info": {
      "name": "python"
    },
    "accelerator": "GPU"
  },
  "cells": [
    {
      "cell_type": "markdown",
      "metadata": {
        "id": "view-in-github",
        "colab_type": "text"
      },
      "source": [
        "<a href=\"https://colab.research.google.com/github/celelunar/Stock-Prediction-LSTM-SeqSelfAttention/blob/main/Prediction%20Modelling.ipynb\" target=\"_parent\"><img src=\"https://colab.research.google.com/assets/colab-badge.svg\" alt=\"Open In Colab\"/></a>"
      ]
    },
    {
      "cell_type": "markdown",
      "source": [
        "Nama: Diva Nabila Henryka\n",
        "<br>\n",
        "NIM: 2501975620\n",
        "<br>\n",
        "\n",
        "\n",
        "---\n",
        "\n"
      ],
      "metadata": {
        "id": "Yff64eK7ehH7"
      }
    },
    {
      "cell_type": "markdown",
      "source": [
        "You are an AI Engineer at a company working in the finance sector. Your team has been tasked with predicting the stock performance of Company \"X\". The\n",
        "provided dataset, stored as \"X.csv\", contains several important details about each column. For this task, you will be focusing solely on the 'Date' and 'Close' columns."
      ],
      "metadata": {
        "id": "u1RyXx-YfFVL"
      }
    },
    {
      "cell_type": "markdown",
      "source": [
        "### Preparation"
      ],
      "metadata": {
        "id": "sLC5zR0cfTf-"
      }
    },
    {
      "cell_type": "markdown",
      "source": [
        "#### Import libraries needed"
      ],
      "metadata": {
        "id": "IdXVpBLXfr6_"
      }
    },
    {
      "cell_type": "code",
      "source": [
        "!pip install tensorflow"
      ],
      "metadata": {
        "colab": {
          "base_uri": "https://localhost:8080/"
        },
        "id": "umkXQKmEDocP",
        "outputId": "0edf6518-5cd9-40ee-c9fc-2dd0e6d4d367"
      },
      "execution_count": null,
      "outputs": [
        {
          "output_type": "stream",
          "name": "stdout",
          "text": [
            "Requirement already satisfied: tensorflow in /usr/local/lib/python3.10/dist-packages (2.15.0)\n",
            "Requirement already satisfied: absl-py>=1.0.0 in /usr/local/lib/python3.10/dist-packages (from tensorflow) (1.4.0)\n",
            "Requirement already satisfied: astunparse>=1.6.0 in /usr/local/lib/python3.10/dist-packages (from tensorflow) (1.6.3)\n",
            "Requirement already satisfied: flatbuffers>=23.5.26 in /usr/local/lib/python3.10/dist-packages (from tensorflow) (23.5.26)\n",
            "Requirement already satisfied: gast!=0.5.0,!=0.5.1,!=0.5.2,>=0.2.1 in /usr/local/lib/python3.10/dist-packages (from tensorflow) (0.5.4)\n",
            "Requirement already satisfied: google-pasta>=0.1.1 in /usr/local/lib/python3.10/dist-packages (from tensorflow) (0.2.0)\n",
            "Requirement already satisfied: h5py>=2.9.0 in /usr/local/lib/python3.10/dist-packages (from tensorflow) (3.9.0)\n",
            "Requirement already satisfied: libclang>=13.0.0 in /usr/local/lib/python3.10/dist-packages (from tensorflow) (16.0.6)\n",
            "Requirement already satisfied: ml-dtypes~=0.2.0 in /usr/local/lib/python3.10/dist-packages (from tensorflow) (0.2.0)\n",
            "Requirement already satisfied: numpy<2.0.0,>=1.23.5 in /usr/local/lib/python3.10/dist-packages (from tensorflow) (1.23.5)\n",
            "Requirement already satisfied: opt-einsum>=2.3.2 in /usr/local/lib/python3.10/dist-packages (from tensorflow) (3.3.0)\n",
            "Requirement already satisfied: packaging in /usr/local/lib/python3.10/dist-packages (from tensorflow) (23.2)\n",
            "Requirement already satisfied: protobuf!=4.21.0,!=4.21.1,!=4.21.2,!=4.21.3,!=4.21.4,!=4.21.5,<5.0.0dev,>=3.20.3 in /usr/local/lib/python3.10/dist-packages (from tensorflow) (3.20.3)\n",
            "Requirement already satisfied: setuptools in /usr/local/lib/python3.10/dist-packages (from tensorflow) (67.7.2)\n",
            "Requirement already satisfied: six>=1.12.0 in /usr/local/lib/python3.10/dist-packages (from tensorflow) (1.16.0)\n",
            "Requirement already satisfied: termcolor>=1.1.0 in /usr/local/lib/python3.10/dist-packages (from tensorflow) (2.4.0)\n",
            "Requirement already satisfied: typing-extensions>=3.6.6 in /usr/local/lib/python3.10/dist-packages (from tensorflow) (4.5.0)\n",
            "Requirement already satisfied: wrapt<1.15,>=1.11.0 in /usr/local/lib/python3.10/dist-packages (from tensorflow) (1.14.1)\n",
            "Requirement already satisfied: tensorflow-io-gcs-filesystem>=0.23.1 in /usr/local/lib/python3.10/dist-packages (from tensorflow) (0.35.0)\n",
            "Requirement already satisfied: grpcio<2.0,>=1.24.3 in /usr/local/lib/python3.10/dist-packages (from tensorflow) (1.60.0)\n",
            "Requirement already satisfied: tensorboard<2.16,>=2.15 in /usr/local/lib/python3.10/dist-packages (from tensorflow) (2.15.1)\n",
            "Requirement already satisfied: tensorflow-estimator<2.16,>=2.15.0 in /usr/local/lib/python3.10/dist-packages (from tensorflow) (2.15.0)\n",
            "Requirement already satisfied: keras<2.16,>=2.15.0 in /usr/local/lib/python3.10/dist-packages (from tensorflow) (2.15.0)\n",
            "Requirement already satisfied: wheel<1.0,>=0.23.0 in /usr/local/lib/python3.10/dist-packages (from astunparse>=1.6.0->tensorflow) (0.42.0)\n",
            "Requirement already satisfied: google-auth<3,>=1.6.3 in /usr/local/lib/python3.10/dist-packages (from tensorboard<2.16,>=2.15->tensorflow) (2.17.3)\n",
            "Requirement already satisfied: google-auth-oauthlib<2,>=0.5 in /usr/local/lib/python3.10/dist-packages (from tensorboard<2.16,>=2.15->tensorflow) (1.2.0)\n",
            "Requirement already satisfied: markdown>=2.6.8 in /usr/local/lib/python3.10/dist-packages (from tensorboard<2.16,>=2.15->tensorflow) (3.5.2)\n",
            "Requirement already satisfied: requests<3,>=2.21.0 in /usr/local/lib/python3.10/dist-packages (from tensorboard<2.16,>=2.15->tensorflow) (2.31.0)\n",
            "Requirement already satisfied: tensorboard-data-server<0.8.0,>=0.7.0 in /usr/local/lib/python3.10/dist-packages (from tensorboard<2.16,>=2.15->tensorflow) (0.7.2)\n",
            "Requirement already satisfied: werkzeug>=1.0.1 in /usr/local/lib/python3.10/dist-packages (from tensorboard<2.16,>=2.15->tensorflow) (3.0.1)\n",
            "Requirement already satisfied: cachetools<6.0,>=2.0.0 in /usr/local/lib/python3.10/dist-packages (from google-auth<3,>=1.6.3->tensorboard<2.16,>=2.15->tensorflow) (5.3.2)\n",
            "Requirement already satisfied: pyasn1-modules>=0.2.1 in /usr/local/lib/python3.10/dist-packages (from google-auth<3,>=1.6.3->tensorboard<2.16,>=2.15->tensorflow) (0.3.0)\n",
            "Requirement already satisfied: rsa<5,>=3.1.4 in /usr/local/lib/python3.10/dist-packages (from google-auth<3,>=1.6.3->tensorboard<2.16,>=2.15->tensorflow) (4.9)\n",
            "Requirement already satisfied: requests-oauthlib>=0.7.0 in /usr/local/lib/python3.10/dist-packages (from google-auth-oauthlib<2,>=0.5->tensorboard<2.16,>=2.15->tensorflow) (1.3.1)\n",
            "Requirement already satisfied: charset-normalizer<4,>=2 in /usr/local/lib/python3.10/dist-packages (from requests<3,>=2.21.0->tensorboard<2.16,>=2.15->tensorflow) (3.3.2)\n",
            "Requirement already satisfied: idna<4,>=2.5 in /usr/local/lib/python3.10/dist-packages (from requests<3,>=2.21.0->tensorboard<2.16,>=2.15->tensorflow) (3.6)\n",
            "Requirement already satisfied: urllib3<3,>=1.21.1 in /usr/local/lib/python3.10/dist-packages (from requests<3,>=2.21.0->tensorboard<2.16,>=2.15->tensorflow) (2.0.7)\n",
            "Requirement already satisfied: certifi>=2017.4.17 in /usr/local/lib/python3.10/dist-packages (from requests<3,>=2.21.0->tensorboard<2.16,>=2.15->tensorflow) (2023.11.17)\n",
            "Requirement already satisfied: MarkupSafe>=2.1.1 in /usr/local/lib/python3.10/dist-packages (from werkzeug>=1.0.1->tensorboard<2.16,>=2.15->tensorflow) (2.1.3)\n",
            "Requirement already satisfied: pyasn1<0.6.0,>=0.4.6 in /usr/local/lib/python3.10/dist-packages (from pyasn1-modules>=0.2.1->google-auth<3,>=1.6.3->tensorboard<2.16,>=2.15->tensorflow) (0.5.1)\n",
            "Requirement already satisfied: oauthlib>=3.0.0 in /usr/local/lib/python3.10/dist-packages (from requests-oauthlib>=0.7.0->google-auth-oauthlib<2,>=0.5->tensorboard<2.16,>=2.15->tensorflow) (3.2.2)\n"
          ]
        }
      ]
    },
    {
      "cell_type": "code",
      "source": [
        "!pip install keras-self-attention"
      ],
      "metadata": {
        "colab": {
          "base_uri": "https://localhost:8080/"
        },
        "id": "T9REdkAQ6ADf",
        "outputId": "0c223220-9bc6-4ef8-bda0-71b8f9e7712b"
      },
      "execution_count": null,
      "outputs": [
        {
          "output_type": "stream",
          "name": "stdout",
          "text": [
            "Collecting keras-self-attention\n",
            "  Downloading keras-self-attention-0.51.0.tar.gz (11 kB)\n",
            "  Preparing metadata (setup.py) ... \u001b[?25l\u001b[?25hdone\n",
            "Requirement already satisfied: numpy in /usr/local/lib/python3.10/dist-packages (from keras-self-attention) (1.23.5)\n",
            "Building wheels for collected packages: keras-self-attention\n",
            "  Building wheel for keras-self-attention (setup.py) ... \u001b[?25l\u001b[?25hdone\n",
            "  Created wheel for keras-self-attention: filename=keras_self_attention-0.51.0-py3-none-any.whl size=18895 sha256=88937d30b99d3102beb13b5e051a1cc1c756b9eb78c1ff2b9a064432d3c993c2\n",
            "  Stored in directory: /root/.cache/pip/wheels/b8/f7/24/607b483144fb9c47b4ba2c5fba6b68e54aeee2d5bf6c05302e\n",
            "Successfully built keras-self-attention\n",
            "Installing collected packages: keras-self-attention\n",
            "Successfully installed keras-self-attention-0.51.0\n"
          ]
        }
      ]
    },
    {
      "cell_type": "code",
      "execution_count": null,
      "metadata": {
        "id": "cqEfbw57rz6C"
      },
      "outputs": [],
      "source": [
        "import pandas as pd\n",
        "import numpy as np\n",
        "import matplotlib.pyplot as plt\n",
        "\n",
        "from keras.models import Sequential\n",
        "from keras.layers import Dense, LSTM\n",
        "from keras.callbacks import EarlyStopping, ModelCheckpoint\n",
        "from keras_self_attention import SeqSelfAttention\n",
        "\n",
        "from sklearn.preprocessing import MinMaxScaler\n",
        "from sklearn.metrics import r2_score, mean_squared_error, mean_absolute_error"
      ]
    },
    {
      "cell_type": "markdown",
      "source": [
        "#### Accessing the dataset through Google Drive\n",
        "\n",
        "I choose to store the dataset in my Google Drive to avoid the hassle of reuploading the dataset everytime the runtime gets disconnected.\n",
        "<br>\n",
        "In order to access the dataset, my Google Drive has to be mounted first, then read the dataset using:\n",
        "\n",
        "```\n",
        "pd.read_csv(\"/path to file/file.csv)\n",
        "```\n",
        "\n"
      ],
      "metadata": {
        "id": "G7ptnReefwuB"
      }
    },
    {
      "cell_type": "code",
      "source": [
        "from google.colab import drive\n",
        "drive.mount('/content/drive')"
      ],
      "metadata": {
        "colab": {
          "base_uri": "https://localhost:8080/"
        },
        "id": "9j_oqcNlsQMe",
        "outputId": "204abe6f-02f7-4f1d-9a0e-76a5b9abc920"
      },
      "execution_count": null,
      "outputs": [
        {
          "output_type": "stream",
          "name": "stdout",
          "text": [
            "Mounted at /content/drive\n"
          ]
        }
      ]
    },
    {
      "cell_type": "code",
      "source": [
        "data = pd.read_csv(\"/content/drive/MyDrive/Final/X.csv\", usecols = ['Date', 'Close'])\n",
        "data.head()"
      ],
      "metadata": {
        "colab": {
          "base_uri": "https://localhost:8080/",
          "height": 206
        },
        "id": "XBG2i4Mqsca9",
        "outputId": "c41887ab-eec5-4267-c92d-330789482dc9"
      },
      "execution_count": null,
      "outputs": [
        {
          "output_type": "execute_result",
          "data": {
            "text/plain": [
              "         Date       Close\n",
              "0  2005-09-29  432.588074\n",
              "1  2005-09-30  457.787384\n",
              "2  2005-10-03  470.387024\n",
              "3  2005-10-04  474.586914\n",
              "4  2005-10-05  482.986694"
            ],
            "text/html": [
              "\n",
              "  <div id=\"df-3411fa5e-7a7b-4625-83c4-3fef55bc389f\" class=\"colab-df-container\">\n",
              "    <div>\n",
              "<style scoped>\n",
              "    .dataframe tbody tr th:only-of-type {\n",
              "        vertical-align: middle;\n",
              "    }\n",
              "\n",
              "    .dataframe tbody tr th {\n",
              "        vertical-align: top;\n",
              "    }\n",
              "\n",
              "    .dataframe thead th {\n",
              "        text-align: right;\n",
              "    }\n",
              "</style>\n",
              "<table border=\"1\" class=\"dataframe\">\n",
              "  <thead>\n",
              "    <tr style=\"text-align: right;\">\n",
              "      <th></th>\n",
              "      <th>Date</th>\n",
              "      <th>Close</th>\n",
              "    </tr>\n",
              "  </thead>\n",
              "  <tbody>\n",
              "    <tr>\n",
              "      <th>0</th>\n",
              "      <td>2005-09-29</td>\n",
              "      <td>432.588074</td>\n",
              "    </tr>\n",
              "    <tr>\n",
              "      <th>1</th>\n",
              "      <td>2005-09-30</td>\n",
              "      <td>457.787384</td>\n",
              "    </tr>\n",
              "    <tr>\n",
              "      <th>2</th>\n",
              "      <td>2005-10-03</td>\n",
              "      <td>470.387024</td>\n",
              "    </tr>\n",
              "    <tr>\n",
              "      <th>3</th>\n",
              "      <td>2005-10-04</td>\n",
              "      <td>474.586914</td>\n",
              "    </tr>\n",
              "    <tr>\n",
              "      <th>4</th>\n",
              "      <td>2005-10-05</td>\n",
              "      <td>482.986694</td>\n",
              "    </tr>\n",
              "  </tbody>\n",
              "</table>\n",
              "</div>\n",
              "    <div class=\"colab-df-buttons\">\n",
              "\n",
              "  <div class=\"colab-df-container\">\n",
              "    <button class=\"colab-df-convert\" onclick=\"convertToInteractive('df-3411fa5e-7a7b-4625-83c4-3fef55bc389f')\"\n",
              "            title=\"Convert this dataframe to an interactive table.\"\n",
              "            style=\"display:none;\">\n",
              "\n",
              "  <svg xmlns=\"http://www.w3.org/2000/svg\" height=\"24px\" viewBox=\"0 -960 960 960\">\n",
              "    <path d=\"M120-120v-720h720v720H120Zm60-500h600v-160H180v160Zm220 220h160v-160H400v160Zm0 220h160v-160H400v160ZM180-400h160v-160H180v160Zm440 0h160v-160H620v160ZM180-180h160v-160H180v160Zm440 0h160v-160H620v160Z\"/>\n",
              "  </svg>\n",
              "    </button>\n",
              "\n",
              "  <style>\n",
              "    .colab-df-container {\n",
              "      display:flex;\n",
              "      gap: 12px;\n",
              "    }\n",
              "\n",
              "    .colab-df-convert {\n",
              "      background-color: #E8F0FE;\n",
              "      border: none;\n",
              "      border-radius: 50%;\n",
              "      cursor: pointer;\n",
              "      display: none;\n",
              "      fill: #1967D2;\n",
              "      height: 32px;\n",
              "      padding: 0 0 0 0;\n",
              "      width: 32px;\n",
              "    }\n",
              "\n",
              "    .colab-df-convert:hover {\n",
              "      background-color: #E2EBFA;\n",
              "      box-shadow: 0px 1px 2px rgba(60, 64, 67, 0.3), 0px 1px 3px 1px rgba(60, 64, 67, 0.15);\n",
              "      fill: #174EA6;\n",
              "    }\n",
              "\n",
              "    .colab-df-buttons div {\n",
              "      margin-bottom: 4px;\n",
              "    }\n",
              "\n",
              "    [theme=dark] .colab-df-convert {\n",
              "      background-color: #3B4455;\n",
              "      fill: #D2E3FC;\n",
              "    }\n",
              "\n",
              "    [theme=dark] .colab-df-convert:hover {\n",
              "      background-color: #434B5C;\n",
              "      box-shadow: 0px 1px 3px 1px rgba(0, 0, 0, 0.15);\n",
              "      filter: drop-shadow(0px 1px 2px rgba(0, 0, 0, 0.3));\n",
              "      fill: #FFFFFF;\n",
              "    }\n",
              "  </style>\n",
              "\n",
              "    <script>\n",
              "      const buttonEl =\n",
              "        document.querySelector('#df-3411fa5e-7a7b-4625-83c4-3fef55bc389f button.colab-df-convert');\n",
              "      buttonEl.style.display =\n",
              "        google.colab.kernel.accessAllowed ? 'block' : 'none';\n",
              "\n",
              "      async function convertToInteractive(key) {\n",
              "        const element = document.querySelector('#df-3411fa5e-7a7b-4625-83c4-3fef55bc389f');\n",
              "        const dataTable =\n",
              "          await google.colab.kernel.invokeFunction('convertToInteractive',\n",
              "                                                    [key], {});\n",
              "        if (!dataTable) return;\n",
              "\n",
              "        const docLinkHtml = 'Like what you see? Visit the ' +\n",
              "          '<a target=\"_blank\" href=https://colab.research.google.com/notebooks/data_table.ipynb>data table notebook</a>'\n",
              "          + ' to learn more about interactive tables.';\n",
              "        element.innerHTML = '';\n",
              "        dataTable['output_type'] = 'display_data';\n",
              "        await google.colab.output.renderOutput(dataTable, element);\n",
              "        const docLink = document.createElement('div');\n",
              "        docLink.innerHTML = docLinkHtml;\n",
              "        element.appendChild(docLink);\n",
              "      }\n",
              "    </script>\n",
              "  </div>\n",
              "\n",
              "\n",
              "<div id=\"df-49eb3aa2-20b6-4d7b-963f-b28b253e7c0a\">\n",
              "  <button class=\"colab-df-quickchart\" onclick=\"quickchart('df-49eb3aa2-20b6-4d7b-963f-b28b253e7c0a')\"\n",
              "            title=\"Suggest charts\"\n",
              "            style=\"display:none;\">\n",
              "\n",
              "<svg xmlns=\"http://www.w3.org/2000/svg\" height=\"24px\"viewBox=\"0 0 24 24\"\n",
              "     width=\"24px\">\n",
              "    <g>\n",
              "        <path d=\"M19 3H5c-1.1 0-2 .9-2 2v14c0 1.1.9 2 2 2h14c1.1 0 2-.9 2-2V5c0-1.1-.9-2-2-2zM9 17H7v-7h2v7zm4 0h-2V7h2v10zm4 0h-2v-4h2v4z\"/>\n",
              "    </g>\n",
              "</svg>\n",
              "  </button>\n",
              "\n",
              "<style>\n",
              "  .colab-df-quickchart {\n",
              "      --bg-color: #E8F0FE;\n",
              "      --fill-color: #1967D2;\n",
              "      --hover-bg-color: #E2EBFA;\n",
              "      --hover-fill-color: #174EA6;\n",
              "      --disabled-fill-color: #AAA;\n",
              "      --disabled-bg-color: #DDD;\n",
              "  }\n",
              "\n",
              "  [theme=dark] .colab-df-quickchart {\n",
              "      --bg-color: #3B4455;\n",
              "      --fill-color: #D2E3FC;\n",
              "      --hover-bg-color: #434B5C;\n",
              "      --hover-fill-color: #FFFFFF;\n",
              "      --disabled-bg-color: #3B4455;\n",
              "      --disabled-fill-color: #666;\n",
              "  }\n",
              "\n",
              "  .colab-df-quickchart {\n",
              "    background-color: var(--bg-color);\n",
              "    border: none;\n",
              "    border-radius: 50%;\n",
              "    cursor: pointer;\n",
              "    display: none;\n",
              "    fill: var(--fill-color);\n",
              "    height: 32px;\n",
              "    padding: 0;\n",
              "    width: 32px;\n",
              "  }\n",
              "\n",
              "  .colab-df-quickchart:hover {\n",
              "    background-color: var(--hover-bg-color);\n",
              "    box-shadow: 0 1px 2px rgba(60, 64, 67, 0.3), 0 1px 3px 1px rgba(60, 64, 67, 0.15);\n",
              "    fill: var(--button-hover-fill-color);\n",
              "  }\n",
              "\n",
              "  .colab-df-quickchart-complete:disabled,\n",
              "  .colab-df-quickchart-complete:disabled:hover {\n",
              "    background-color: var(--disabled-bg-color);\n",
              "    fill: var(--disabled-fill-color);\n",
              "    box-shadow: none;\n",
              "  }\n",
              "\n",
              "  .colab-df-spinner {\n",
              "    border: 2px solid var(--fill-color);\n",
              "    border-color: transparent;\n",
              "    border-bottom-color: var(--fill-color);\n",
              "    animation:\n",
              "      spin 1s steps(1) infinite;\n",
              "  }\n",
              "\n",
              "  @keyframes spin {\n",
              "    0% {\n",
              "      border-color: transparent;\n",
              "      border-bottom-color: var(--fill-color);\n",
              "      border-left-color: var(--fill-color);\n",
              "    }\n",
              "    20% {\n",
              "      border-color: transparent;\n",
              "      border-left-color: var(--fill-color);\n",
              "      border-top-color: var(--fill-color);\n",
              "    }\n",
              "    30% {\n",
              "      border-color: transparent;\n",
              "      border-left-color: var(--fill-color);\n",
              "      border-top-color: var(--fill-color);\n",
              "      border-right-color: var(--fill-color);\n",
              "    }\n",
              "    40% {\n",
              "      border-color: transparent;\n",
              "      border-right-color: var(--fill-color);\n",
              "      border-top-color: var(--fill-color);\n",
              "    }\n",
              "    60% {\n",
              "      border-color: transparent;\n",
              "      border-right-color: var(--fill-color);\n",
              "    }\n",
              "    80% {\n",
              "      border-color: transparent;\n",
              "      border-right-color: var(--fill-color);\n",
              "      border-bottom-color: var(--fill-color);\n",
              "    }\n",
              "    90% {\n",
              "      border-color: transparent;\n",
              "      border-bottom-color: var(--fill-color);\n",
              "    }\n",
              "  }\n",
              "</style>\n",
              "\n",
              "  <script>\n",
              "    async function quickchart(key) {\n",
              "      const quickchartButtonEl =\n",
              "        document.querySelector('#' + key + ' button');\n",
              "      quickchartButtonEl.disabled = true;  // To prevent multiple clicks.\n",
              "      quickchartButtonEl.classList.add('colab-df-spinner');\n",
              "      try {\n",
              "        const charts = await google.colab.kernel.invokeFunction(\n",
              "            'suggestCharts', [key], {});\n",
              "      } catch (error) {\n",
              "        console.error('Error during call to suggestCharts:', error);\n",
              "      }\n",
              "      quickchartButtonEl.classList.remove('colab-df-spinner');\n",
              "      quickchartButtonEl.classList.add('colab-df-quickchart-complete');\n",
              "    }\n",
              "    (() => {\n",
              "      let quickchartButtonEl =\n",
              "        document.querySelector('#df-49eb3aa2-20b6-4d7b-963f-b28b253e7c0a button');\n",
              "      quickchartButtonEl.style.display =\n",
              "        google.colab.kernel.accessAllowed ? 'block' : 'none';\n",
              "    })();\n",
              "  </script>\n",
              "</div>\n",
              "    </div>\n",
              "  </div>\n"
            ]
          },
          "metadata": {},
          "execution_count": 5
        }
      ]
    },
    {
      "cell_type": "markdown",
      "source": [
        "### A. Data Exploration, Cleaning, and Preprocessing"
      ],
      "metadata": {
        "id": "kXVIHJqdfbYb"
      }
    },
    {
      "cell_type": "markdown",
      "source": [
        "#### Familiarize with the dataset\n",
        "The first step of data exploration is familiarizing ourselves with the dataset that we'll be dealing with to know the attributes, columns in this case, data shape, and type of each attributes using:\n",
        "```\n",
        ".info()\n",
        "```\n"
      ],
      "metadata": {
        "id": "9FX01NTdijqv"
      }
    },
    {
      "cell_type": "code",
      "source": [
        "data.info()"
      ],
      "metadata": {
        "colab": {
          "base_uri": "https://localhost:8080/"
        },
        "id": "_9ynzYwnsmZf",
        "outputId": "55533361-2493-4678-b338-f73554718a17"
      },
      "execution_count": null,
      "outputs": [
        {
          "output_type": "stream",
          "name": "stdout",
          "text": [
            "<class 'pandas.core.frame.DataFrame'>\n",
            "RangeIndex: 3808 entries, 0 to 3807\n",
            "Data columns (total 2 columns):\n",
            " #   Column  Non-Null Count  Dtype  \n",
            "---  ------  --------------  -----  \n",
            " 0   Date    3808 non-null   object \n",
            " 1   Close   3807 non-null   float64\n",
            "dtypes: float64(1), object(1)\n",
            "memory usage: 59.6+ KB\n"
          ]
        }
      ]
    },
    {
      "cell_type": "markdown",
      "source": [
        "From the result above it can be seen that our data has 2 columns, date and stock's closing price in that day, and it has 3808 entries. Thus the data shape is (3808, 2)"
      ],
      "metadata": {
        "id": "-EQ4GaMSom1n"
      }
    },
    {
      "cell_type": "markdown",
      "source": [
        "#### Checking for missing values\n",
        "Checking for missing value is a crucial step in data exploration, since incomplete data can bias the result of the model and/or reduce the accuracy of the model. To check the missing values we can use:\n",
        "```\n",
        ".isna()\n",
        ".isnull()\n",
        "```"
      ],
      "metadata": {
        "id": "NxP3BIotj4Eu"
      }
    },
    {
      "cell_type": "code",
      "source": [
        "print(\"Before Filling In Missing Values: \")\n",
        "Na = data.isna().sum().sort_values(ascending = False)\n",
        "Null = data.isnull().sum().sort_values(ascending = False)\n",
        "missingData = pd.concat([Na, Null], axis = 1, keys = ['Total Na', 'Total Null'])\n",
        "missingData.head()"
      ],
      "metadata": {
        "colab": {
          "base_uri": "https://localhost:8080/",
          "height": 129
        },
        "id": "PZCy31qOtKbf",
        "outputId": "db8b2ee0-312a-4fc9-c8b7-f4a2b0d9cb99"
      },
      "execution_count": null,
      "outputs": [
        {
          "output_type": "stream",
          "name": "stdout",
          "text": [
            "Before Filling In Missing Values: \n"
          ]
        },
        {
          "output_type": "execute_result",
          "data": {
            "text/plain": [
              "       Total Na  Total Null\n",
              "Close         1           1\n",
              "Date          0           0"
            ],
            "text/html": [
              "\n",
              "  <div id=\"df-84a5169b-4d88-4f42-9170-34c71be587c7\" class=\"colab-df-container\">\n",
              "    <div>\n",
              "<style scoped>\n",
              "    .dataframe tbody tr th:only-of-type {\n",
              "        vertical-align: middle;\n",
              "    }\n",
              "\n",
              "    .dataframe tbody tr th {\n",
              "        vertical-align: top;\n",
              "    }\n",
              "\n",
              "    .dataframe thead th {\n",
              "        text-align: right;\n",
              "    }\n",
              "</style>\n",
              "<table border=\"1\" class=\"dataframe\">\n",
              "  <thead>\n",
              "    <tr style=\"text-align: right;\">\n",
              "      <th></th>\n",
              "      <th>Total Na</th>\n",
              "      <th>Total Null</th>\n",
              "    </tr>\n",
              "  </thead>\n",
              "  <tbody>\n",
              "    <tr>\n",
              "      <th>Close</th>\n",
              "      <td>1</td>\n",
              "      <td>1</td>\n",
              "    </tr>\n",
              "    <tr>\n",
              "      <th>Date</th>\n",
              "      <td>0</td>\n",
              "      <td>0</td>\n",
              "    </tr>\n",
              "  </tbody>\n",
              "</table>\n",
              "</div>\n",
              "    <div class=\"colab-df-buttons\">\n",
              "\n",
              "  <div class=\"colab-df-container\">\n",
              "    <button class=\"colab-df-convert\" onclick=\"convertToInteractive('df-84a5169b-4d88-4f42-9170-34c71be587c7')\"\n",
              "            title=\"Convert this dataframe to an interactive table.\"\n",
              "            style=\"display:none;\">\n",
              "\n",
              "  <svg xmlns=\"http://www.w3.org/2000/svg\" height=\"24px\" viewBox=\"0 -960 960 960\">\n",
              "    <path d=\"M120-120v-720h720v720H120Zm60-500h600v-160H180v160Zm220 220h160v-160H400v160Zm0 220h160v-160H400v160ZM180-400h160v-160H180v160Zm440 0h160v-160H620v160ZM180-180h160v-160H180v160Zm440 0h160v-160H620v160Z\"/>\n",
              "  </svg>\n",
              "    </button>\n",
              "\n",
              "  <style>\n",
              "    .colab-df-container {\n",
              "      display:flex;\n",
              "      gap: 12px;\n",
              "    }\n",
              "\n",
              "    .colab-df-convert {\n",
              "      background-color: #E8F0FE;\n",
              "      border: none;\n",
              "      border-radius: 50%;\n",
              "      cursor: pointer;\n",
              "      display: none;\n",
              "      fill: #1967D2;\n",
              "      height: 32px;\n",
              "      padding: 0 0 0 0;\n",
              "      width: 32px;\n",
              "    }\n",
              "\n",
              "    .colab-df-convert:hover {\n",
              "      background-color: #E2EBFA;\n",
              "      box-shadow: 0px 1px 2px rgba(60, 64, 67, 0.3), 0px 1px 3px 1px rgba(60, 64, 67, 0.15);\n",
              "      fill: #174EA6;\n",
              "    }\n",
              "\n",
              "    .colab-df-buttons div {\n",
              "      margin-bottom: 4px;\n",
              "    }\n",
              "\n",
              "    [theme=dark] .colab-df-convert {\n",
              "      background-color: #3B4455;\n",
              "      fill: #D2E3FC;\n",
              "    }\n",
              "\n",
              "    [theme=dark] .colab-df-convert:hover {\n",
              "      background-color: #434B5C;\n",
              "      box-shadow: 0px 1px 3px 1px rgba(0, 0, 0, 0.15);\n",
              "      filter: drop-shadow(0px 1px 2px rgba(0, 0, 0, 0.3));\n",
              "      fill: #FFFFFF;\n",
              "    }\n",
              "  </style>\n",
              "\n",
              "    <script>\n",
              "      const buttonEl =\n",
              "        document.querySelector('#df-84a5169b-4d88-4f42-9170-34c71be587c7 button.colab-df-convert');\n",
              "      buttonEl.style.display =\n",
              "        google.colab.kernel.accessAllowed ? 'block' : 'none';\n",
              "\n",
              "      async function convertToInteractive(key) {\n",
              "        const element = document.querySelector('#df-84a5169b-4d88-4f42-9170-34c71be587c7');\n",
              "        const dataTable =\n",
              "          await google.colab.kernel.invokeFunction('convertToInteractive',\n",
              "                                                    [key], {});\n",
              "        if (!dataTable) return;\n",
              "\n",
              "        const docLinkHtml = 'Like what you see? Visit the ' +\n",
              "          '<a target=\"_blank\" href=https://colab.research.google.com/notebooks/data_table.ipynb>data table notebook</a>'\n",
              "          + ' to learn more about interactive tables.';\n",
              "        element.innerHTML = '';\n",
              "        dataTable['output_type'] = 'display_data';\n",
              "        await google.colab.output.renderOutput(dataTable, element);\n",
              "        const docLink = document.createElement('div');\n",
              "        docLink.innerHTML = docLinkHtml;\n",
              "        element.appendChild(docLink);\n",
              "      }\n",
              "    </script>\n",
              "  </div>\n",
              "\n",
              "\n",
              "<div id=\"df-683307cc-324e-4d64-8a0d-a77541d61b94\">\n",
              "  <button class=\"colab-df-quickchart\" onclick=\"quickchart('df-683307cc-324e-4d64-8a0d-a77541d61b94')\"\n",
              "            title=\"Suggest charts\"\n",
              "            style=\"display:none;\">\n",
              "\n",
              "<svg xmlns=\"http://www.w3.org/2000/svg\" height=\"24px\"viewBox=\"0 0 24 24\"\n",
              "     width=\"24px\">\n",
              "    <g>\n",
              "        <path d=\"M19 3H5c-1.1 0-2 .9-2 2v14c0 1.1.9 2 2 2h14c1.1 0 2-.9 2-2V5c0-1.1-.9-2-2-2zM9 17H7v-7h2v7zm4 0h-2V7h2v10zm4 0h-2v-4h2v4z\"/>\n",
              "    </g>\n",
              "</svg>\n",
              "  </button>\n",
              "\n",
              "<style>\n",
              "  .colab-df-quickchart {\n",
              "      --bg-color: #E8F0FE;\n",
              "      --fill-color: #1967D2;\n",
              "      --hover-bg-color: #E2EBFA;\n",
              "      --hover-fill-color: #174EA6;\n",
              "      --disabled-fill-color: #AAA;\n",
              "      --disabled-bg-color: #DDD;\n",
              "  }\n",
              "\n",
              "  [theme=dark] .colab-df-quickchart {\n",
              "      --bg-color: #3B4455;\n",
              "      --fill-color: #D2E3FC;\n",
              "      --hover-bg-color: #434B5C;\n",
              "      --hover-fill-color: #FFFFFF;\n",
              "      --disabled-bg-color: #3B4455;\n",
              "      --disabled-fill-color: #666;\n",
              "  }\n",
              "\n",
              "  .colab-df-quickchart {\n",
              "    background-color: var(--bg-color);\n",
              "    border: none;\n",
              "    border-radius: 50%;\n",
              "    cursor: pointer;\n",
              "    display: none;\n",
              "    fill: var(--fill-color);\n",
              "    height: 32px;\n",
              "    padding: 0;\n",
              "    width: 32px;\n",
              "  }\n",
              "\n",
              "  .colab-df-quickchart:hover {\n",
              "    background-color: var(--hover-bg-color);\n",
              "    box-shadow: 0 1px 2px rgba(60, 64, 67, 0.3), 0 1px 3px 1px rgba(60, 64, 67, 0.15);\n",
              "    fill: var(--button-hover-fill-color);\n",
              "  }\n",
              "\n",
              "  .colab-df-quickchart-complete:disabled,\n",
              "  .colab-df-quickchart-complete:disabled:hover {\n",
              "    background-color: var(--disabled-bg-color);\n",
              "    fill: var(--disabled-fill-color);\n",
              "    box-shadow: none;\n",
              "  }\n",
              "\n",
              "  .colab-df-spinner {\n",
              "    border: 2px solid var(--fill-color);\n",
              "    border-color: transparent;\n",
              "    border-bottom-color: var(--fill-color);\n",
              "    animation:\n",
              "      spin 1s steps(1) infinite;\n",
              "  }\n",
              "\n",
              "  @keyframes spin {\n",
              "    0% {\n",
              "      border-color: transparent;\n",
              "      border-bottom-color: var(--fill-color);\n",
              "      border-left-color: var(--fill-color);\n",
              "    }\n",
              "    20% {\n",
              "      border-color: transparent;\n",
              "      border-left-color: var(--fill-color);\n",
              "      border-top-color: var(--fill-color);\n",
              "    }\n",
              "    30% {\n",
              "      border-color: transparent;\n",
              "      border-left-color: var(--fill-color);\n",
              "      border-top-color: var(--fill-color);\n",
              "      border-right-color: var(--fill-color);\n",
              "    }\n",
              "    40% {\n",
              "      border-color: transparent;\n",
              "      border-right-color: var(--fill-color);\n",
              "      border-top-color: var(--fill-color);\n",
              "    }\n",
              "    60% {\n",
              "      border-color: transparent;\n",
              "      border-right-color: var(--fill-color);\n",
              "    }\n",
              "    80% {\n",
              "      border-color: transparent;\n",
              "      border-right-color: var(--fill-color);\n",
              "      border-bottom-color: var(--fill-color);\n",
              "    }\n",
              "    90% {\n",
              "      border-color: transparent;\n",
              "      border-bottom-color: var(--fill-color);\n",
              "    }\n",
              "  }\n",
              "</style>\n",
              "\n",
              "  <script>\n",
              "    async function quickchart(key) {\n",
              "      const quickchartButtonEl =\n",
              "        document.querySelector('#' + key + ' button');\n",
              "      quickchartButtonEl.disabled = true;  // To prevent multiple clicks.\n",
              "      quickchartButtonEl.classList.add('colab-df-spinner');\n",
              "      try {\n",
              "        const charts = await google.colab.kernel.invokeFunction(\n",
              "            'suggestCharts', [key], {});\n",
              "      } catch (error) {\n",
              "        console.error('Error during call to suggestCharts:', error);\n",
              "      }\n",
              "      quickchartButtonEl.classList.remove('colab-df-spinner');\n",
              "      quickchartButtonEl.classList.add('colab-df-quickchart-complete');\n",
              "    }\n",
              "    (() => {\n",
              "      let quickchartButtonEl =\n",
              "        document.querySelector('#df-683307cc-324e-4d64-8a0d-a77541d61b94 button');\n",
              "      quickchartButtonEl.style.display =\n",
              "        google.colab.kernel.accessAllowed ? 'block' : 'none';\n",
              "    })();\n",
              "  </script>\n",
              "</div>\n",
              "    </div>\n",
              "  </div>\n"
            ]
          },
          "metadata": {},
          "execution_count": 7
        }
      ]
    },
    {
      "cell_type": "markdown",
      "source": [
        "Since the data turned out to have missing value, we can deal by either filling in or remove the missing value. I choose to fill in since this is a financial dataset used for stock prediction which means it's important to keep the data of each day. To fill in the data, we can use:\n",
        "```\n",
        ".fillna()\n",
        "```"
      ],
      "metadata": {
        "id": "KY8Ol76Gm04z"
      }
    },
    {
      "cell_type": "code",
      "source": [
        "data.fillna(method = 'ffill', inplace = True)"
      ],
      "metadata": {
        "id": "LGBxxSNetNHv"
      },
      "execution_count": null,
      "outputs": []
    },
    {
      "cell_type": "code",
      "source": [
        "print(\"After Filling In Missing Values: \")\n",
        "Na = data.isna().sum().sort_values(ascending = False)\n",
        "Null = data.isnull().sum().sort_values(ascending = False)\n",
        "missingData = pd.concat([Na, Null], axis = 1, keys = ['Total Na', 'Total Null'])\n",
        "missingData.head()"
      ],
      "metadata": {
        "colab": {
          "base_uri": "https://localhost:8080/",
          "height": 129
        },
        "id": "GfS78apTvkp2",
        "outputId": "182dd0e6-e45c-48b7-f5f3-035fa79cf53e"
      },
      "execution_count": null,
      "outputs": [
        {
          "output_type": "stream",
          "name": "stdout",
          "text": [
            "After Filling In Missing Values: \n"
          ]
        },
        {
          "output_type": "execute_result",
          "data": {
            "text/plain": [
              "       Total Na  Total Null\n",
              "Date          0           0\n",
              "Close         0           0"
            ],
            "text/html": [
              "\n",
              "  <div id=\"df-404aa087-78f6-40d5-aa89-02a1f68348fd\" class=\"colab-df-container\">\n",
              "    <div>\n",
              "<style scoped>\n",
              "    .dataframe tbody tr th:only-of-type {\n",
              "        vertical-align: middle;\n",
              "    }\n",
              "\n",
              "    .dataframe tbody tr th {\n",
              "        vertical-align: top;\n",
              "    }\n",
              "\n",
              "    .dataframe thead th {\n",
              "        text-align: right;\n",
              "    }\n",
              "</style>\n",
              "<table border=\"1\" class=\"dataframe\">\n",
              "  <thead>\n",
              "    <tr style=\"text-align: right;\">\n",
              "      <th></th>\n",
              "      <th>Total Na</th>\n",
              "      <th>Total Null</th>\n",
              "    </tr>\n",
              "  </thead>\n",
              "  <tbody>\n",
              "    <tr>\n",
              "      <th>Date</th>\n",
              "      <td>0</td>\n",
              "      <td>0</td>\n",
              "    </tr>\n",
              "    <tr>\n",
              "      <th>Close</th>\n",
              "      <td>0</td>\n",
              "      <td>0</td>\n",
              "    </tr>\n",
              "  </tbody>\n",
              "</table>\n",
              "</div>\n",
              "    <div class=\"colab-df-buttons\">\n",
              "\n",
              "  <div class=\"colab-df-container\">\n",
              "    <button class=\"colab-df-convert\" onclick=\"convertToInteractive('df-404aa087-78f6-40d5-aa89-02a1f68348fd')\"\n",
              "            title=\"Convert this dataframe to an interactive table.\"\n",
              "            style=\"display:none;\">\n",
              "\n",
              "  <svg xmlns=\"http://www.w3.org/2000/svg\" height=\"24px\" viewBox=\"0 -960 960 960\">\n",
              "    <path d=\"M120-120v-720h720v720H120Zm60-500h600v-160H180v160Zm220 220h160v-160H400v160Zm0 220h160v-160H400v160ZM180-400h160v-160H180v160Zm440 0h160v-160H620v160ZM180-180h160v-160H180v160Zm440 0h160v-160H620v160Z\"/>\n",
              "  </svg>\n",
              "    </button>\n",
              "\n",
              "  <style>\n",
              "    .colab-df-container {\n",
              "      display:flex;\n",
              "      gap: 12px;\n",
              "    }\n",
              "\n",
              "    .colab-df-convert {\n",
              "      background-color: #E8F0FE;\n",
              "      border: none;\n",
              "      border-radius: 50%;\n",
              "      cursor: pointer;\n",
              "      display: none;\n",
              "      fill: #1967D2;\n",
              "      height: 32px;\n",
              "      padding: 0 0 0 0;\n",
              "      width: 32px;\n",
              "    }\n",
              "\n",
              "    .colab-df-convert:hover {\n",
              "      background-color: #E2EBFA;\n",
              "      box-shadow: 0px 1px 2px rgba(60, 64, 67, 0.3), 0px 1px 3px 1px rgba(60, 64, 67, 0.15);\n",
              "      fill: #174EA6;\n",
              "    }\n",
              "\n",
              "    .colab-df-buttons div {\n",
              "      margin-bottom: 4px;\n",
              "    }\n",
              "\n",
              "    [theme=dark] .colab-df-convert {\n",
              "      background-color: #3B4455;\n",
              "      fill: #D2E3FC;\n",
              "    }\n",
              "\n",
              "    [theme=dark] .colab-df-convert:hover {\n",
              "      background-color: #434B5C;\n",
              "      box-shadow: 0px 1px 3px 1px rgba(0, 0, 0, 0.15);\n",
              "      filter: drop-shadow(0px 1px 2px rgba(0, 0, 0, 0.3));\n",
              "      fill: #FFFFFF;\n",
              "    }\n",
              "  </style>\n",
              "\n",
              "    <script>\n",
              "      const buttonEl =\n",
              "        document.querySelector('#df-404aa087-78f6-40d5-aa89-02a1f68348fd button.colab-df-convert');\n",
              "      buttonEl.style.display =\n",
              "        google.colab.kernel.accessAllowed ? 'block' : 'none';\n",
              "\n",
              "      async function convertToInteractive(key) {\n",
              "        const element = document.querySelector('#df-404aa087-78f6-40d5-aa89-02a1f68348fd');\n",
              "        const dataTable =\n",
              "          await google.colab.kernel.invokeFunction('convertToInteractive',\n",
              "                                                    [key], {});\n",
              "        if (!dataTable) return;\n",
              "\n",
              "        const docLinkHtml = 'Like what you see? Visit the ' +\n",
              "          '<a target=\"_blank\" href=https://colab.research.google.com/notebooks/data_table.ipynb>data table notebook</a>'\n",
              "          + ' to learn more about interactive tables.';\n",
              "        element.innerHTML = '';\n",
              "        dataTable['output_type'] = 'display_data';\n",
              "        await google.colab.output.renderOutput(dataTable, element);\n",
              "        const docLink = document.createElement('div');\n",
              "        docLink.innerHTML = docLinkHtml;\n",
              "        element.appendChild(docLink);\n",
              "      }\n",
              "    </script>\n",
              "  </div>\n",
              "\n",
              "\n",
              "<div id=\"df-277c8782-b7e4-4300-b0e5-1a609d103e74\">\n",
              "  <button class=\"colab-df-quickchart\" onclick=\"quickchart('df-277c8782-b7e4-4300-b0e5-1a609d103e74')\"\n",
              "            title=\"Suggest charts\"\n",
              "            style=\"display:none;\">\n",
              "\n",
              "<svg xmlns=\"http://www.w3.org/2000/svg\" height=\"24px\"viewBox=\"0 0 24 24\"\n",
              "     width=\"24px\">\n",
              "    <g>\n",
              "        <path d=\"M19 3H5c-1.1 0-2 .9-2 2v14c0 1.1.9 2 2 2h14c1.1 0 2-.9 2-2V5c0-1.1-.9-2-2-2zM9 17H7v-7h2v7zm4 0h-2V7h2v10zm4 0h-2v-4h2v4z\"/>\n",
              "    </g>\n",
              "</svg>\n",
              "  </button>\n",
              "\n",
              "<style>\n",
              "  .colab-df-quickchart {\n",
              "      --bg-color: #E8F0FE;\n",
              "      --fill-color: #1967D2;\n",
              "      --hover-bg-color: #E2EBFA;\n",
              "      --hover-fill-color: #174EA6;\n",
              "      --disabled-fill-color: #AAA;\n",
              "      --disabled-bg-color: #DDD;\n",
              "  }\n",
              "\n",
              "  [theme=dark] .colab-df-quickchart {\n",
              "      --bg-color: #3B4455;\n",
              "      --fill-color: #D2E3FC;\n",
              "      --hover-bg-color: #434B5C;\n",
              "      --hover-fill-color: #FFFFFF;\n",
              "      --disabled-bg-color: #3B4455;\n",
              "      --disabled-fill-color: #666;\n",
              "  }\n",
              "\n",
              "  .colab-df-quickchart {\n",
              "    background-color: var(--bg-color);\n",
              "    border: none;\n",
              "    border-radius: 50%;\n",
              "    cursor: pointer;\n",
              "    display: none;\n",
              "    fill: var(--fill-color);\n",
              "    height: 32px;\n",
              "    padding: 0;\n",
              "    width: 32px;\n",
              "  }\n",
              "\n",
              "  .colab-df-quickchart:hover {\n",
              "    background-color: var(--hover-bg-color);\n",
              "    box-shadow: 0 1px 2px rgba(60, 64, 67, 0.3), 0 1px 3px 1px rgba(60, 64, 67, 0.15);\n",
              "    fill: var(--button-hover-fill-color);\n",
              "  }\n",
              "\n",
              "  .colab-df-quickchart-complete:disabled,\n",
              "  .colab-df-quickchart-complete:disabled:hover {\n",
              "    background-color: var(--disabled-bg-color);\n",
              "    fill: var(--disabled-fill-color);\n",
              "    box-shadow: none;\n",
              "  }\n",
              "\n",
              "  .colab-df-spinner {\n",
              "    border: 2px solid var(--fill-color);\n",
              "    border-color: transparent;\n",
              "    border-bottom-color: var(--fill-color);\n",
              "    animation:\n",
              "      spin 1s steps(1) infinite;\n",
              "  }\n",
              "\n",
              "  @keyframes spin {\n",
              "    0% {\n",
              "      border-color: transparent;\n",
              "      border-bottom-color: var(--fill-color);\n",
              "      border-left-color: var(--fill-color);\n",
              "    }\n",
              "    20% {\n",
              "      border-color: transparent;\n",
              "      border-left-color: var(--fill-color);\n",
              "      border-top-color: var(--fill-color);\n",
              "    }\n",
              "    30% {\n",
              "      border-color: transparent;\n",
              "      border-left-color: var(--fill-color);\n",
              "      border-top-color: var(--fill-color);\n",
              "      border-right-color: var(--fill-color);\n",
              "    }\n",
              "    40% {\n",
              "      border-color: transparent;\n",
              "      border-right-color: var(--fill-color);\n",
              "      border-top-color: var(--fill-color);\n",
              "    }\n",
              "    60% {\n",
              "      border-color: transparent;\n",
              "      border-right-color: var(--fill-color);\n",
              "    }\n",
              "    80% {\n",
              "      border-color: transparent;\n",
              "      border-right-color: var(--fill-color);\n",
              "      border-bottom-color: var(--fill-color);\n",
              "    }\n",
              "    90% {\n",
              "      border-color: transparent;\n",
              "      border-bottom-color: var(--fill-color);\n",
              "    }\n",
              "  }\n",
              "</style>\n",
              "\n",
              "  <script>\n",
              "    async function quickchart(key) {\n",
              "      const quickchartButtonEl =\n",
              "        document.querySelector('#' + key + ' button');\n",
              "      quickchartButtonEl.disabled = true;  // To prevent multiple clicks.\n",
              "      quickchartButtonEl.classList.add('colab-df-spinner');\n",
              "      try {\n",
              "        const charts = await google.colab.kernel.invokeFunction(\n",
              "            'suggestCharts', [key], {});\n",
              "      } catch (error) {\n",
              "        console.error('Error during call to suggestCharts:', error);\n",
              "      }\n",
              "      quickchartButtonEl.classList.remove('colab-df-spinner');\n",
              "      quickchartButtonEl.classList.add('colab-df-quickchart-complete');\n",
              "    }\n",
              "    (() => {\n",
              "      let quickchartButtonEl =\n",
              "        document.querySelector('#df-277c8782-b7e4-4300-b0e5-1a609d103e74 button');\n",
              "      quickchartButtonEl.style.display =\n",
              "        google.colab.kernel.accessAllowed ? 'block' : 'none';\n",
              "    })();\n",
              "  </script>\n",
              "</div>\n",
              "    </div>\n",
              "  </div>\n"
            ]
          },
          "metadata": {},
          "execution_count": 9
        }
      ]
    },
    {
      "cell_type": "markdown",
      "source": [
        "#### Check for duplicates\n",
        "Data duplication can add the weights of sample and cause bias to the result of the model, thus it is important to check and handle it. Though in this case since each row supposedly represent different day, there should not be any duplication. To check duplicates, we can use:\n",
        "```\n",
        ".duplicated()\n",
        "```"
      ],
      "metadata": {
        "id": "CllewnqmnZZq"
      }
    },
    {
      "cell_type": "code",
      "source": [
        "data.duplicated().sum()"
      ],
      "metadata": {
        "colab": {
          "base_uri": "https://localhost:8080/"
        },
        "id": "Z2MAuQ5dvzpO",
        "outputId": "b04bcc7a-9788-4da0-b1ff-063303552c32"
      },
      "execution_count": null,
      "outputs": [
        {
          "output_type": "execute_result",
          "data": {
            "text/plain": [
              "0"
            ]
          },
          "metadata": {},
          "execution_count": 10
        }
      ]
    },
    {
      "cell_type": "markdown",
      "source": [
        "From the result above, it can be concluded that the data has no duplicated rows."
      ],
      "metadata": {
        "id": "btIN6P-4opaZ"
      }
    },
    {
      "cell_type": "markdown",
      "source": [
        "#### Get numerical analysis of the data\n",
        "Since all issues that could affect the result has been resolved, we can check the numerical analysis of the data using:\n",
        "```\n",
        ".describe()\n",
        "```"
      ],
      "metadata": {
        "id": "qHenpDIpn9Zt"
      }
    },
    {
      "cell_type": "code",
      "source": [
        "data.describe()"
      ],
      "metadata": {
        "colab": {
          "base_uri": "https://localhost:8080/",
          "height": 300
        },
        "id": "6M1vqNJxv_AC",
        "outputId": "7fcea5d3-8aca-46d7-dbe0-469534207399"
      },
      "execution_count": null,
      "outputs": [
        {
          "output_type": "execute_result",
          "data": {
            "text/plain": [
              "             Close\n",
              "count  3808.000000\n",
              "mean   1207.046458\n",
              "std     665.151567\n",
              "min     287.000000\n",
              "25%     765.000000\n",
              "50%     957.573608\n",
              "75%    1595.956055\n",
              "max    4241.883301"
            ],
            "text/html": [
              "\n",
              "  <div id=\"df-f03f9337-87ac-4b21-bdf1-45688166e70c\" class=\"colab-df-container\">\n",
              "    <div>\n",
              "<style scoped>\n",
              "    .dataframe tbody tr th:only-of-type {\n",
              "        vertical-align: middle;\n",
              "    }\n",
              "\n",
              "    .dataframe tbody tr th {\n",
              "        vertical-align: top;\n",
              "    }\n",
              "\n",
              "    .dataframe thead th {\n",
              "        text-align: right;\n",
              "    }\n",
              "</style>\n",
              "<table border=\"1\" class=\"dataframe\">\n",
              "  <thead>\n",
              "    <tr style=\"text-align: right;\">\n",
              "      <th></th>\n",
              "      <th>Close</th>\n",
              "    </tr>\n",
              "  </thead>\n",
              "  <tbody>\n",
              "    <tr>\n",
              "      <th>count</th>\n",
              "      <td>3808.000000</td>\n",
              "    </tr>\n",
              "    <tr>\n",
              "      <th>mean</th>\n",
              "      <td>1207.046458</td>\n",
              "    </tr>\n",
              "    <tr>\n",
              "      <th>std</th>\n",
              "      <td>665.151567</td>\n",
              "    </tr>\n",
              "    <tr>\n",
              "      <th>min</th>\n",
              "      <td>287.000000</td>\n",
              "    </tr>\n",
              "    <tr>\n",
              "      <th>25%</th>\n",
              "      <td>765.000000</td>\n",
              "    </tr>\n",
              "    <tr>\n",
              "      <th>50%</th>\n",
              "      <td>957.573608</td>\n",
              "    </tr>\n",
              "    <tr>\n",
              "      <th>75%</th>\n",
              "      <td>1595.956055</td>\n",
              "    </tr>\n",
              "    <tr>\n",
              "      <th>max</th>\n",
              "      <td>4241.883301</td>\n",
              "    </tr>\n",
              "  </tbody>\n",
              "</table>\n",
              "</div>\n",
              "    <div class=\"colab-df-buttons\">\n",
              "\n",
              "  <div class=\"colab-df-container\">\n",
              "    <button class=\"colab-df-convert\" onclick=\"convertToInteractive('df-f03f9337-87ac-4b21-bdf1-45688166e70c')\"\n",
              "            title=\"Convert this dataframe to an interactive table.\"\n",
              "            style=\"display:none;\">\n",
              "\n",
              "  <svg xmlns=\"http://www.w3.org/2000/svg\" height=\"24px\" viewBox=\"0 -960 960 960\">\n",
              "    <path d=\"M120-120v-720h720v720H120Zm60-500h600v-160H180v160Zm220 220h160v-160H400v160Zm0 220h160v-160H400v160ZM180-400h160v-160H180v160Zm440 0h160v-160H620v160ZM180-180h160v-160H180v160Zm440 0h160v-160H620v160Z\"/>\n",
              "  </svg>\n",
              "    </button>\n",
              "\n",
              "  <style>\n",
              "    .colab-df-container {\n",
              "      display:flex;\n",
              "      gap: 12px;\n",
              "    }\n",
              "\n",
              "    .colab-df-convert {\n",
              "      background-color: #E8F0FE;\n",
              "      border: none;\n",
              "      border-radius: 50%;\n",
              "      cursor: pointer;\n",
              "      display: none;\n",
              "      fill: #1967D2;\n",
              "      height: 32px;\n",
              "      padding: 0 0 0 0;\n",
              "      width: 32px;\n",
              "    }\n",
              "\n",
              "    .colab-df-convert:hover {\n",
              "      background-color: #E2EBFA;\n",
              "      box-shadow: 0px 1px 2px rgba(60, 64, 67, 0.3), 0px 1px 3px 1px rgba(60, 64, 67, 0.15);\n",
              "      fill: #174EA6;\n",
              "    }\n",
              "\n",
              "    .colab-df-buttons div {\n",
              "      margin-bottom: 4px;\n",
              "    }\n",
              "\n",
              "    [theme=dark] .colab-df-convert {\n",
              "      background-color: #3B4455;\n",
              "      fill: #D2E3FC;\n",
              "    }\n",
              "\n",
              "    [theme=dark] .colab-df-convert:hover {\n",
              "      background-color: #434B5C;\n",
              "      box-shadow: 0px 1px 3px 1px rgba(0, 0, 0, 0.15);\n",
              "      filter: drop-shadow(0px 1px 2px rgba(0, 0, 0, 0.3));\n",
              "      fill: #FFFFFF;\n",
              "    }\n",
              "  </style>\n",
              "\n",
              "    <script>\n",
              "      const buttonEl =\n",
              "        document.querySelector('#df-f03f9337-87ac-4b21-bdf1-45688166e70c button.colab-df-convert');\n",
              "      buttonEl.style.display =\n",
              "        google.colab.kernel.accessAllowed ? 'block' : 'none';\n",
              "\n",
              "      async function convertToInteractive(key) {\n",
              "        const element = document.querySelector('#df-f03f9337-87ac-4b21-bdf1-45688166e70c');\n",
              "        const dataTable =\n",
              "          await google.colab.kernel.invokeFunction('convertToInteractive',\n",
              "                                                    [key], {});\n",
              "        if (!dataTable) return;\n",
              "\n",
              "        const docLinkHtml = 'Like what you see? Visit the ' +\n",
              "          '<a target=\"_blank\" href=https://colab.research.google.com/notebooks/data_table.ipynb>data table notebook</a>'\n",
              "          + ' to learn more about interactive tables.';\n",
              "        element.innerHTML = '';\n",
              "        dataTable['output_type'] = 'display_data';\n",
              "        await google.colab.output.renderOutput(dataTable, element);\n",
              "        const docLink = document.createElement('div');\n",
              "        docLink.innerHTML = docLinkHtml;\n",
              "        element.appendChild(docLink);\n",
              "      }\n",
              "    </script>\n",
              "  </div>\n",
              "\n",
              "\n",
              "<div id=\"df-b14f0ee9-8bc6-4708-b785-06990422d52f\">\n",
              "  <button class=\"colab-df-quickchart\" onclick=\"quickchart('df-b14f0ee9-8bc6-4708-b785-06990422d52f')\"\n",
              "            title=\"Suggest charts\"\n",
              "            style=\"display:none;\">\n",
              "\n",
              "<svg xmlns=\"http://www.w3.org/2000/svg\" height=\"24px\"viewBox=\"0 0 24 24\"\n",
              "     width=\"24px\">\n",
              "    <g>\n",
              "        <path d=\"M19 3H5c-1.1 0-2 .9-2 2v14c0 1.1.9 2 2 2h14c1.1 0 2-.9 2-2V5c0-1.1-.9-2-2-2zM9 17H7v-7h2v7zm4 0h-2V7h2v10zm4 0h-2v-4h2v4z\"/>\n",
              "    </g>\n",
              "</svg>\n",
              "  </button>\n",
              "\n",
              "<style>\n",
              "  .colab-df-quickchart {\n",
              "      --bg-color: #E8F0FE;\n",
              "      --fill-color: #1967D2;\n",
              "      --hover-bg-color: #E2EBFA;\n",
              "      --hover-fill-color: #174EA6;\n",
              "      --disabled-fill-color: #AAA;\n",
              "      --disabled-bg-color: #DDD;\n",
              "  }\n",
              "\n",
              "  [theme=dark] .colab-df-quickchart {\n",
              "      --bg-color: #3B4455;\n",
              "      --fill-color: #D2E3FC;\n",
              "      --hover-bg-color: #434B5C;\n",
              "      --hover-fill-color: #FFFFFF;\n",
              "      --disabled-bg-color: #3B4455;\n",
              "      --disabled-fill-color: #666;\n",
              "  }\n",
              "\n",
              "  .colab-df-quickchart {\n",
              "    background-color: var(--bg-color);\n",
              "    border: none;\n",
              "    border-radius: 50%;\n",
              "    cursor: pointer;\n",
              "    display: none;\n",
              "    fill: var(--fill-color);\n",
              "    height: 32px;\n",
              "    padding: 0;\n",
              "    width: 32px;\n",
              "  }\n",
              "\n",
              "  .colab-df-quickchart:hover {\n",
              "    background-color: var(--hover-bg-color);\n",
              "    box-shadow: 0 1px 2px rgba(60, 64, 67, 0.3), 0 1px 3px 1px rgba(60, 64, 67, 0.15);\n",
              "    fill: var(--button-hover-fill-color);\n",
              "  }\n",
              "\n",
              "  .colab-df-quickchart-complete:disabled,\n",
              "  .colab-df-quickchart-complete:disabled:hover {\n",
              "    background-color: var(--disabled-bg-color);\n",
              "    fill: var(--disabled-fill-color);\n",
              "    box-shadow: none;\n",
              "  }\n",
              "\n",
              "  .colab-df-spinner {\n",
              "    border: 2px solid var(--fill-color);\n",
              "    border-color: transparent;\n",
              "    border-bottom-color: var(--fill-color);\n",
              "    animation:\n",
              "      spin 1s steps(1) infinite;\n",
              "  }\n",
              "\n",
              "  @keyframes spin {\n",
              "    0% {\n",
              "      border-color: transparent;\n",
              "      border-bottom-color: var(--fill-color);\n",
              "      border-left-color: var(--fill-color);\n",
              "    }\n",
              "    20% {\n",
              "      border-color: transparent;\n",
              "      border-left-color: var(--fill-color);\n",
              "      border-top-color: var(--fill-color);\n",
              "    }\n",
              "    30% {\n",
              "      border-color: transparent;\n",
              "      border-left-color: var(--fill-color);\n",
              "      border-top-color: var(--fill-color);\n",
              "      border-right-color: var(--fill-color);\n",
              "    }\n",
              "    40% {\n",
              "      border-color: transparent;\n",
              "      border-right-color: var(--fill-color);\n",
              "      border-top-color: var(--fill-color);\n",
              "    }\n",
              "    60% {\n",
              "      border-color: transparent;\n",
              "      border-right-color: var(--fill-color);\n",
              "    }\n",
              "    80% {\n",
              "      border-color: transparent;\n",
              "      border-right-color: var(--fill-color);\n",
              "      border-bottom-color: var(--fill-color);\n",
              "    }\n",
              "    90% {\n",
              "      border-color: transparent;\n",
              "      border-bottom-color: var(--fill-color);\n",
              "    }\n",
              "  }\n",
              "</style>\n",
              "\n",
              "  <script>\n",
              "    async function quickchart(key) {\n",
              "      const quickchartButtonEl =\n",
              "        document.querySelector('#' + key + ' button');\n",
              "      quickchartButtonEl.disabled = true;  // To prevent multiple clicks.\n",
              "      quickchartButtonEl.classList.add('colab-df-spinner');\n",
              "      try {\n",
              "        const charts = await google.colab.kernel.invokeFunction(\n",
              "            'suggestCharts', [key], {});\n",
              "      } catch (error) {\n",
              "        console.error('Error during call to suggestCharts:', error);\n",
              "      }\n",
              "      quickchartButtonEl.classList.remove('colab-df-spinner');\n",
              "      quickchartButtonEl.classList.add('colab-df-quickchart-complete');\n",
              "    }\n",
              "    (() => {\n",
              "      let quickchartButtonEl =\n",
              "        document.querySelector('#df-b14f0ee9-8bc6-4708-b785-06990422d52f button');\n",
              "      quickchartButtonEl.style.display =\n",
              "        google.colab.kernel.accessAllowed ? 'block' : 'none';\n",
              "    })();\n",
              "  </script>\n",
              "</div>\n",
              "    </div>\n",
              "  </div>\n"
            ]
          },
          "metadata": {},
          "execution_count": 11
        }
      ]
    },
    {
      "cell_type": "markdown",
      "source": [
        "#### \"Date\" modification\n",
        "Since this is a time series analysis, there are a couple preparation step that we should do to the \"Date\" column, such as:\n",
        "1. Convert to datetime to ensure a consistent date fromat and allowing for datetime operations such as sorting and indexing.\n",
        "```\n",
        "pd.to_datetime()\n",
        "```\n",
        "2. Sort chronologically to make it easier to perform and enhances the accuracy and interpretability of a time series analysis.\n",
        "```\n",
        ".sort_values()\n",
        "```\n",
        "3. Set as index to enhance the readability, usability, and functionality of the dataset, making it more suitable for analysis and modelling.\n",
        "```\n",
        ".set_index()\n",
        "```"
      ],
      "metadata": {
        "id": "oi_qGN0dohN7"
      }
    },
    {
      "cell_type": "code",
      "source": [
        "data['Date'] = pd.to_datetime(data['Date'])"
      ],
      "metadata": {
        "id": "b0Jj6mqBwFJQ"
      },
      "execution_count": null,
      "outputs": []
    },
    {
      "cell_type": "code",
      "source": [
        "data_sorted = data.sort_values('Date').reset_index(drop = True)"
      ],
      "metadata": {
        "id": "_DNobob8wK-c"
      },
      "execution_count": null,
      "outputs": []
    },
    {
      "cell_type": "code",
      "source": [
        "data_sorted.set_index('Date', inplace = True)"
      ],
      "metadata": {
        "id": "9hChg9QMwa6a"
      },
      "execution_count": null,
      "outputs": []
    },
    {
      "cell_type": "markdown",
      "source": [
        "#### Reshape and scaling the \"Close\" data\n",
        "1. Reshaping data into a one column array is necessary since many machine learning algorithms, including for time series analysis, often expect the input data to be in a two-dimension format. In this case, each row corresponds to a sample (timestamp), and there is only one feature (Close).\n",
        "```\n",
        ".values.reshape(-1, 1)\n",
        "```\n",
        "2. Scaling/Normalize data In this case, each row corresponds to a sample (timestamp), and there is only one feature.\n",
        "```\n",
        "scaler = MinMaxScaler()\n",
        "scaled = scaler.fit_transform()\n",
        "```"
      ],
      "metadata": {
        "id": "4o6FYdbNwB7Z"
      }
    },
    {
      "cell_type": "code",
      "source": [
        "prices = data_sorted['Close'].values.reshape(-1, 1)"
      ],
      "metadata": {
        "id": "hzYzs3PMwhbN"
      },
      "execution_count": null,
      "outputs": []
    },
    {
      "cell_type": "code",
      "source": [
        "scaler = MinMaxScaler(feature_range = (0, 1))\n",
        "scaledPrices = scaler.fit_transform(prices)"
      ],
      "metadata": {
        "id": "bbE931bhzFr6"
      },
      "execution_count": null,
      "outputs": []
    },
    {
      "cell_type": "markdown",
      "source": [
        "#### Data division\n",
        "Since this is time series forcasting task, we have to divide the dataset into 2 arrays input (X) and output (Y). Just as the stipulations given in the question, we'll be using window size of 5 and a horizon of 1."
      ],
      "metadata": {
        "id": "-n_I_qBaoj_o"
      }
    },
    {
      "cell_type": "code",
      "source": [
        "window_size = 5\n",
        "horizon = 1"
      ],
      "metadata": {
        "id": "pGDbucxA2wjv"
      },
      "execution_count": null,
      "outputs": []
    },
    {
      "cell_type": "code",
      "source": [
        "def divide_dataset(dataset, window_size, horizon):\n",
        "  X, Y = [], []\n",
        "  for i in range(len(dataset) - window_size - horizon + 1):\n",
        "    X.append(dataset[i : (i + window_size), 0])\n",
        "    Y.append(dataset[i + window_size : i + window_size + horizon, 0])\n",
        "  return np.array(X), np.array(Y)"
      ],
      "metadata": {
        "id": "Xv57kgxIz5tP"
      },
      "execution_count": null,
      "outputs": []
    },
    {
      "cell_type": "markdown",
      "source": [
        "### B. Data Splitting (Training, Validation, Testing)"
      ],
      "metadata": {
        "id": "S6Nw7Y0ef-Ap"
      }
    },
    {
      "cell_type": "markdown",
      "source": [
        "#### Split the data\n",
        "The next part is splitting the data into 3 parts, 80% training set, 10% validation set, and 10% testing set. To do so we can first calculate the size of training and validation set, then use splicing to split the data."
      ],
      "metadata": {
        "id": "DJd45BzlkG7S"
      }
    },
    {
      "cell_type": "code",
      "source": [
        "train_size = int(len(scaledPrices) * 0.8)\n",
        "val_size = int(len(scaledPrices) * 0.1)"
      ],
      "metadata": {
        "id": "ou4uigQi0bn_"
      },
      "execution_count": null,
      "outputs": []
    },
    {
      "cell_type": "code",
      "source": [
        "train = scaledPrices[: train_size]\n",
        "val = scaledPrices[train_size : (train_size + val_size)]\n",
        "test = scaledPrices[(train_size + val_size) : ]\n",
        "\n",
        "print(\"Original data shapes:\")\n",
        "print(train.shape)\n",
        "print(val.shape)\n",
        "print(test.shape)"
      ],
      "metadata": {
        "colab": {
          "base_uri": "https://localhost:8080/"
        },
        "id": "8pMeBA-N2Gw7",
        "outputId": "60bf1eaa-76ca-44d1-94a2-b0754bb15170"
      },
      "execution_count": null,
      "outputs": [
        {
          "output_type": "stream",
          "name": "stdout",
          "text": [
            "Original data shapes:\n",
            "(3046, 1)\n",
            "(380, 1)\n",
            "(382, 1)\n"
          ]
        }
      ]
    },
    {
      "cell_type": "markdown",
      "source": [
        "#### Divide the data\n",
        "The next step of data preparation is to actually divide each set of data into input and output by calling the function we've made above."
      ],
      "metadata": {
        "id": "kmCMfAuv1NQv"
      }
    },
    {
      "cell_type": "code",
      "source": [
        "trainX, trainY = divide_dataset(train, window_size, horizon)\n",
        "valX, valY = divide_dataset(val, window_size, horizon)\n",
        "testX, testY = divide_dataset(test, window_size, horizon)\n",
        "\n",
        "print(\"Dataset shapes:\")\n",
        "print(trainX.shape)\n",
        "print(valX.shape)\n",
        "print(testX.shape)"
      ],
      "metadata": {
        "colab": {
          "base_uri": "https://localhost:8080/"
        },
        "id": "LOzkFOif2fvr",
        "outputId": "c5ea5a12-a3a0-4272-952e-f676b3d982e6"
      },
      "execution_count": null,
      "outputs": [
        {
          "output_type": "stream",
          "name": "stdout",
          "text": [
            "Dataset shapes:\n",
            "(3041, 5)\n",
            "(375, 5)\n",
            "(377, 5)\n"
          ]
        }
      ]
    },
    {
      "cell_type": "markdown",
      "source": [
        "#### Reshape the data\n",
        "The last step of data preparation is to reshape the data into a 3-dimensional array, where each dimension corresponds to number of samples (time steps), size of each input sequence (window size), and number of features (in this case, 1 for a univariate time series). To reshape the data, we can make use of:\n",
        "```\n",
        "np.reshape([original array], ([new shape dimension]))\n",
        "```"
      ],
      "metadata": {
        "id": "K_00hR491N9X"
      }
    },
    {
      "cell_type": "code",
      "source": [
        "trainX = np.reshape(trainX, (trainX.shape[0], trainX.shape[1], 1))\n",
        "valX = np.reshape(valX, (valX.shape[0], valX.shape[1], 1))\n",
        "testX = np.reshape(testX, (testX.shape[0], testX.shape[1], 1))\n",
        "\n",
        "print(\"Reshaped dataset shapes:\")\n",
        "print(trainX.shape)\n",
        "print(valX.shape)\n",
        "print(testX.shape)"
      ],
      "metadata": {
        "colab": {
          "base_uri": "https://localhost:8080/"
        },
        "id": "Be5qVAfD2rf5",
        "outputId": "bfd71a57-09c2-4a74-de2f-517f40472a81"
      },
      "execution_count": null,
      "outputs": [
        {
          "output_type": "stream",
          "name": "stdout",
          "text": [
            "Reshaped dataset shapes:\n",
            "(3041, 5, 1)\n",
            "(375, 5, 1)\n",
            "(377, 5, 1)\n"
          ]
        }
      ]
    },
    {
      "cell_type": "markdown",
      "source": [
        "### C. Base Architecture"
      ],
      "metadata": {
        "id": "fOLfEbW4gIqi"
      }
    },
    {
      "cell_type": "markdown",
      "source": [
        "#### Build the model\n",
        "Since the last 2 numbers of my student ID is 20 ---> 2 + 0 ---> 2, thus I'll be using the LSTM in my base model."
      ],
      "metadata": {
        "id": "4-T14UyWlbyO"
      }
    },
    {
      "cell_type": "code",
      "source": [
        "base_model = Sequential()\n",
        "base_model.add(LSTM(50, input_shape = (trainX.shape[1], trainX.shape[2]), return_sequences = True))\n",
        "base_model.add(LSTM(50, activation = 'linear'))\n",
        "base_model.add(Dense(1))\n",
        "\n",
        "base_model.compile(loss = 'mean_squared_error', optimizer = 'adam')\n",
        "base_model.summary()"
      ],
      "metadata": {
        "colab": {
          "base_uri": "https://localhost:8080/"
        },
        "id": "tuDsKGQT4ZAm",
        "outputId": "3c05595f-4c70-42cb-f8f9-3a7f8006eeac"
      },
      "execution_count": null,
      "outputs": [
        {
          "output_type": "stream",
          "name": "stderr",
          "text": [
            "WARNING:tensorflow:Layer lstm_1 will not use cuDNN kernels since it doesn't meet the criteria. It will use a generic GPU kernel as fallback when running on GPU.\n"
          ]
        },
        {
          "output_type": "stream",
          "name": "stdout",
          "text": [
            "Model: \"sequential\"\n",
            "_________________________________________________________________\n",
            " Layer (type)                Output Shape              Param #   \n",
            "=================================================================\n",
            " lstm (LSTM)                 (None, 5, 50)             10400     \n",
            "                                                                 \n",
            " lstm_1 (LSTM)               (None, 50)                20200     \n",
            "                                                                 \n",
            " dense (Dense)               (None, 1)                 51        \n",
            "                                                                 \n",
            "=================================================================\n",
            "Total params: 30651 (119.73 KB)\n",
            "Trainable params: 30651 (119.73 KB)\n",
            "Non-trainable params: 0 (0.00 Byte)\n",
            "_________________________________________________________________\n"
          ]
        }
      ]
    },
    {
      "cell_type": "markdown",
      "source": [
        "#### Train the model\n",
        "After building the base model, we can train the model iteratively by using the training set and validation set to validate the model's performance. I'll be using epochs of 25 and batch size of 32."
      ],
      "metadata": {
        "id": "LK7oIis-mCwK"
      }
    },
    {
      "cell_type": "code",
      "source": [
        "history = base_model.fit(trainX, trainY, epochs = 25, batch_size = 32, validation_data = (valX, valY))"
      ],
      "metadata": {
        "colab": {
          "base_uri": "https://localhost:8080/"
        },
        "id": "DaFJf9Rb5ry_",
        "outputId": "57a72d6e-140a-4d27-fb30-41e7513f9cb6"
      },
      "execution_count": null,
      "outputs": [
        {
          "output_type": "stream",
          "name": "stdout",
          "text": [
            "Epoch 1/25\n",
            "96/96 [==============================] - 8s 29ms/step - loss: 0.0083 - val_loss: 9.2298e-05\n",
            "Epoch 2/25\n",
            "96/96 [==============================] - 2s 16ms/step - loss: 5.3818e-04 - val_loss: 1.9233e-04\n",
            "Epoch 3/25\n",
            "96/96 [==============================] - 1s 12ms/step - loss: 7.1136e-04 - val_loss: 7.8307e-05\n",
            "Epoch 4/25\n",
            "96/96 [==============================] - 1s 12ms/step - loss: 4.3376e-04 - val_loss: 9.4497e-05\n",
            "Epoch 5/25\n",
            "96/96 [==============================] - 1s 12ms/step - loss: 4.3766e-04 - val_loss: 7.6181e-05\n",
            "Epoch 6/25\n",
            "96/96 [==============================] - 1s 12ms/step - loss: 4.3869e-04 - val_loss: 8.0273e-05\n",
            "Epoch 7/25\n",
            "96/96 [==============================] - 1s 12ms/step - loss: 4.2360e-04 - val_loss: 7.6182e-05\n",
            "Epoch 8/25\n",
            "96/96 [==============================] - 2s 17ms/step - loss: 4.4137e-04 - val_loss: 7.7609e-05\n",
            "Epoch 9/25\n",
            "96/96 [==============================] - 1s 12ms/step - loss: 4.4789e-04 - val_loss: 8.5842e-05\n",
            "Epoch 10/25\n",
            "96/96 [==============================] - 1s 15ms/step - loss: 4.1013e-04 - val_loss: 9.3696e-05\n",
            "Epoch 11/25\n",
            "96/96 [==============================] - 2s 21ms/step - loss: 4.4233e-04 - val_loss: 7.5873e-05\n",
            "Epoch 12/25\n",
            "96/96 [==============================] - 2s 21ms/step - loss: 4.2271e-04 - val_loss: 7.3700e-05\n",
            "Epoch 13/25\n",
            "96/96 [==============================] - 2s 20ms/step - loss: 3.9122e-04 - val_loss: 7.0048e-05\n",
            "Epoch 14/25\n",
            "96/96 [==============================] - 2s 23ms/step - loss: 4.1966e-04 - val_loss: 8.4626e-05\n",
            "Epoch 15/25\n",
            "96/96 [==============================] - 2s 24ms/step - loss: 3.8645e-04 - val_loss: 8.6864e-05\n",
            "Epoch 16/25\n",
            "96/96 [==============================] - 2s 23ms/step - loss: 3.8699e-04 - val_loss: 1.3746e-04\n",
            "Epoch 17/25\n",
            "96/96 [==============================] - 2s 26ms/step - loss: 3.8341e-04 - val_loss: 9.1251e-05\n",
            "Epoch 18/25\n",
            "96/96 [==============================] - 3s 33ms/step - loss: 5.1291e-04 - val_loss: 6.7592e-05\n",
            "Epoch 19/25\n",
            "96/96 [==============================] - 3s 31ms/step - loss: 3.4366e-04 - val_loss: 1.3086e-04\n",
            "Epoch 20/25\n",
            "96/96 [==============================] - 2s 25ms/step - loss: 3.4799e-04 - val_loss: 7.4001e-05\n",
            "Epoch 21/25\n",
            "96/96 [==============================] - 2s 23ms/step - loss: 3.4658e-04 - val_loss: 6.1640e-05\n",
            "Epoch 22/25\n",
            "96/96 [==============================] - 3s 26ms/step - loss: 3.1844e-04 - val_loss: 7.8026e-05\n",
            "Epoch 23/25\n",
            "96/96 [==============================] - 3s 29ms/step - loss: 3.3301e-04 - val_loss: 7.4467e-05\n",
            "Epoch 24/25\n",
            "96/96 [==============================] - 3s 27ms/step - loss: 2.9545e-04 - val_loss: 3.9805e-04\n",
            "Epoch 25/25\n",
            "96/96 [==============================] - 2s 21ms/step - loss: 0.0011 - val_loss: 6.7473e-05\n"
          ]
        }
      ]
    },
    {
      "cell_type": "markdown",
      "source": [
        "#### Visualize the model loss\n",
        "To better view the model performance, we can create a line graph of both training and validation loss in each epoch."
      ],
      "metadata": {
        "id": "cVjF6xsnmbLQ"
      }
    },
    {
      "cell_type": "code",
      "source": [
        "plt.plot(history.history['loss'], label = \"Training Loss\")\n",
        "plt.plot(history.history['val_loss'], label = \"Validation Loss\")\n",
        "plt.xlabel('Epochs')\n",
        "plt.ylabel('Loss')\n",
        "plt.legend()\n",
        "plt.show()"
      ],
      "metadata": {
        "colab": {
          "base_uri": "https://localhost:8080/",
          "height": 449
        },
        "id": "-t8xdFC-FmIt",
        "outputId": "6643ecd5-83a6-4479-b750-d17a7d2066c3"
      },
      "execution_count": null,
      "outputs": [
        {
          "output_type": "display_data",
          "data": {
            "text/plain": [
              "<Figure size 640x480 with 1 Axes>"
            ],
            "image/png": "[encoded data removed]"
          },
          "metadata": {}
        }
      ]
    },
    {
      "cell_type": "markdown",
      "source": [
        "From the line graph above, it can be seen that for both training and validation set, the base architecture did a good job in minimizing the loss that it is almost 0."
      ],
      "metadata": {
        "id": "9QVlvQFan-v5"
      }
    },
    {
      "cell_type": "markdown",
      "source": [
        "### D. Sequential Self-Attention Architecture"
      ],
      "metadata": {
        "id": "1kFjTNqigN5x"
      }
    },
    {
      "cell_type": "markdown",
      "source": [
        "The sequential self-attention mechanism is a deep learning mechanism that enables a model to focus on different parts of an input sequence by giving each part a weight to determine its importance and dependencies with other parts. The self-attention mechanism works as follows:\n",
        "1. The input sequence is represented as a matrix of embeddings, where each row corresponds to a different element in the sequence.\n",
        "2. Each of the encoder input embeddings by each of the three weight matrices to produce queries (q), keys (k), and values (v).\n",
        "3. Attention Scores: The attention scores are calculated as a function of the similarity between the queries and keys.\n",
        "4. Query vector from the current input is multiplied by the key vectors from other inputs, then multiplying the score by the square root of the dimensions of the key vector to get the self-attention scores.\n",
        "6. All of the self-attention scores will be subjected to the softmax function.\n",
        "7. The value vector is multiplied by the determined vector from the previous step.\n",
        "8. Lastly, the weighted value vectors obtained in the stage before are added to provide the self-attention output.\n",
        "\n",
        "Sources:\n",
        "1. Pardeshi, K., Gill, S. S., & Abdelmoniem, A. M. (2023). *Stock Market Price Prediction: A Hybrid LSTM and Sequential Self-Attention based Approach*.; https://arxiv.org/abs/2308.04419\n",
        "2. Kharlova, E. (2021). *Time Series Forecasting using Sequence Models with Attention* [Master's thesis, University of Alberta]. ERA: Education and Research Archive.; https://era.library.ualberta.ca/items/ff7ef4e8-79e5-405d-8ed7-bb3d3fcc9d97/view/44bc7254-f2fc-4432-a260-896ce451746e/Kharlova_Elizaveta_202105_MSc.pdf"
      ],
      "metadata": {
        "id": "CYeSGkT3uLTq"
      }
    },
    {
      "cell_type": "markdown",
      "source": [
        "#### Build the model\n",
        "For implementing the Sequential Self-Attention mechanism to the model we use the exact same architecture as the base architecture, but we'll be adding a Sequential Self-Attention layer as the second hidden layer using:\n",
        "```\n",
        "model.add(SeqSelfAttention())\n",
        "```\n",
        "that can be imported from the `keras-self-attention` library."
      ],
      "metadata": {
        "id": "H-F7Su5zmpzQ"
      }
    },
    {
      "cell_type": "code",
      "source": [
        "model_attention = Sequential()\n",
        "model_attention.add(LSTM(50, input_shape = (trainX.shape[1], trainX.shape[2]), return_sequences = True))\n",
        "model_attention.add(SeqSelfAttention(attention_activation='linear'))\n",
        "model_attention.add(LSTM(50, activation = 'linear'))\n",
        "model_attention.add(Dense(1))\n",
        "\n",
        "model_attention.compile(loss = 'mean_squared_error', optimizer = 'adam')\n",
        "model_attention.summary()"
      ],
      "metadata": {
        "colab": {
          "base_uri": "https://localhost:8080/"
        },
        "id": "8pX-UErDDYMD",
        "outputId": "b0885bb0-97c8-47dc-d4dc-d3ed7f8d9652"
      },
      "execution_count": null,
      "outputs": [
        {
          "output_type": "stream",
          "name": "stderr",
          "text": [
            "/usr/local/lib/python3.10/dist-packages/keras/src/initializers/initializers.py:120: UserWarning: The initializer GlorotNormal is unseeded and being called multiple times, which will return identical values each time (even if the initializer is unseeded). Please update your code to provide a seed to the initializer, or avoid using the same initializer instance more than once.\n",
            "  warnings.warn(\n",
            "WARNING:tensorflow:Layer lstm_3 will not use cuDNN kernels since it doesn't meet the criteria. It will use a generic GPU kernel as fallback when running on GPU.\n"
          ]
        },
        {
          "output_type": "stream",
          "name": "stdout",
          "text": [
            "Model: \"sequential_1\"\n",
            "_________________________________________________________________\n",
            " Layer (type)                Output Shape              Param #   \n",
            "=================================================================\n",
            " lstm_2 (LSTM)               (None, 5, 50)             10400     \n",
            "                                                                 \n",
            " seq_self_attention (SeqSel  (None, 5, 50)             3265      \n",
            " fAttention)                                                     \n",
            "                                                                 \n",
            " lstm_3 (LSTM)               (None, 50)                20200     \n",
            "                                                                 \n",
            " dense_1 (Dense)             (None, 1)                 51        \n",
            "                                                                 \n",
            "=================================================================\n",
            "Total params: 33916 (132.48 KB)\n",
            "Trainable params: 33916 (132.48 KB)\n",
            "Non-trainable params: 0 (0.00 Byte)\n",
            "_________________________________________________________________\n"
          ]
        }
      ]
    },
    {
      "cell_type": "markdown",
      "source": [
        "#### Train the model\n",
        "After building the base model, we can train the model iteratively by using the training set and validation set to validate the model's performance. I'll be using epochs of 25 and batch size of 32."
      ],
      "metadata": {
        "id": "trPCdB6kmqaC"
      }
    },
    {
      "cell_type": "code",
      "source": [
        "history_attention = model_attention.fit(trainX, trainY, epochs = 25, batch_size = 32, validation_data = (valX, valY))"
      ],
      "metadata": {
        "colab": {
          "base_uri": "https://localhost:8080/"
        },
        "id": "sX5XiUx1E0xR",
        "outputId": "c63f08d0-0862-4a47-f1ec-d5ed71a2d2ee"
      },
      "execution_count": null,
      "outputs": [
        {
          "output_type": "stream",
          "name": "stdout",
          "text": [
            "Epoch 1/25\n",
            "96/96 [==============================] - 6s 22ms/step - loss: 0.0110 - val_loss: 3.5005e-04\n",
            "Epoch 2/25\n",
            "96/96 [==============================] - 2s 26ms/step - loss: 7.0893e-04 - val_loss: 1.0818e-04\n",
            "Epoch 3/25\n",
            "96/96 [==============================] - 2s 23ms/step - loss: 4.6911e-04 - val_loss: 8.7944e-05\n",
            "Epoch 4/25\n",
            "96/96 [==============================] - 1s 13ms/step - loss: 4.6328e-04 - val_loss: 1.1871e-04\n",
            "Epoch 5/25\n",
            "96/96 [==============================] - 1s 13ms/step - loss: 4.5082e-04 - val_loss: 1.0348e-04\n",
            "Epoch 6/25\n",
            "96/96 [==============================] - 1s 13ms/step - loss: 4.5919e-04 - val_loss: 1.2673e-04\n",
            "Epoch 7/25\n",
            "96/96 [==============================] - 2s 18ms/step - loss: 4.4923e-04 - val_loss: 8.2622e-04\n",
            "Epoch 8/25\n",
            "96/96 [==============================] - 1s 13ms/step - loss: 0.0010 - val_loss: 1.8605e-04\n",
            "Epoch 9/25\n",
            "96/96 [==============================] - 1s 13ms/step - loss: 5.0915e-04 - val_loss: 1.1076e-04\n",
            "Epoch 10/25\n",
            "96/96 [==============================] - 1s 13ms/step - loss: 4.2751e-04 - val_loss: 7.8193e-05\n",
            "Epoch 11/25\n",
            "96/96 [==============================] - 2s 21ms/step - loss: 4.2218e-04 - val_loss: 1.6196e-04\n",
            "Epoch 12/25\n",
            "96/96 [==============================] - 2s 25ms/step - loss: 4.3856e-04 - val_loss: 1.1199e-04\n",
            "Epoch 13/25\n",
            "96/96 [==============================] - 2s 19ms/step - loss: 4.1681e-04 - val_loss: 7.7417e-05\n",
            "Epoch 14/25\n",
            "96/96 [==============================] - 2s 18ms/step - loss: 4.2045e-04 - val_loss: 1.1583e-04\n",
            "Epoch 15/25\n",
            "96/96 [==============================] - 3s 29ms/step - loss: 4.0004e-04 - val_loss: 8.0467e-05\n",
            "Epoch 16/25\n",
            "96/96 [==============================] - 3s 34ms/step - loss: 4.1182e-04 - val_loss: 7.8688e-05\n",
            "Epoch 17/25\n",
            "96/96 [==============================] - 4s 44ms/step - loss: 4.0000e-04 - val_loss: 8.1036e-05\n",
            "Epoch 18/25\n",
            "96/96 [==============================] - 2s 26ms/step - loss: 4.0121e-04 - val_loss: 1.1047e-04\n",
            "Epoch 19/25\n",
            "96/96 [==============================] - 2s 16ms/step - loss: 4.4526e-04 - val_loss: 3.5953e-04\n",
            "Epoch 20/25\n",
            "96/96 [==============================] - 1s 13ms/step - loss: 4.5196e-04 - val_loss: 7.9858e-05\n",
            "Epoch 21/25\n",
            "96/96 [==============================] - 1s 13ms/step - loss: 3.8874e-04 - val_loss: 1.1305e-04\n",
            "Epoch 22/25\n",
            "96/96 [==============================] - 1s 13ms/step - loss: 4.0876e-04 - val_loss: 8.7126e-05\n",
            "Epoch 23/25\n",
            "96/96 [==============================] - 1s 14ms/step - loss: 3.6143e-04 - val_loss: 8.1809e-05\n",
            "Epoch 24/25\n",
            "96/96 [==============================] - 2s 25ms/step - loss: 3.9217e-04 - val_loss: 7.3635e-05\n",
            "Epoch 25/25\n",
            "96/96 [==============================] - 2s 22ms/step - loss: 3.8241e-04 - val_loss: 6.9459e-05\n"
          ]
        }
      ]
    },
    {
      "cell_type": "markdown",
      "source": [
        "#### Visualize the model loss\n",
        "To better view the model performance, we can create a line graph of both training and validation loss in each epoch."
      ],
      "metadata": {
        "id": "W-EcOpOdmrNf"
      }
    },
    {
      "cell_type": "code",
      "source": [
        "plt.plot(history_attention.history['loss'], label = \"Training Loss\")\n",
        "plt.plot(history_attention.history['val_loss'], label = \"Validation Loss\")\n",
        "plt.xlabel('Epochs')\n",
        "plt.ylabel('Loss')\n",
        "plt.legend()\n",
        "plt.show()"
      ],
      "metadata": {
        "colab": {
          "base_uri": "https://localhost:8080/",
          "height": 449
        },
        "id": "xR4NIKKVFGZH",
        "outputId": "bddda145-bcad-4fc9-9cf4-5328ff6a27e2"
      },
      "execution_count": null,
      "outputs": [
        {
          "output_type": "display_data",
          "data": {
            "text/plain": [
              "<Figure size 640x480 with 1 Axes>"
            ],
            "image/png": "[encoded data removed]"
          },
          "metadata": {}
        }
      ]
    },
    {
      "cell_type": "markdown",
      "source": [
        "From the line graph above, it can be seen that for both training and validation set, the modified Sequential Self-Attention architecture did a good job in minimizing the loss that it is almost 0."
      ],
      "metadata": {
        "id": "2Mtqfn56oNBp"
      }
    },
    {
      "cell_type": "markdown",
      "source": [
        "### E. Architectures Evaluation"
      ],
      "metadata": {
        "id": "ObMl9lQTgayB"
      }
    },
    {
      "cell_type": "markdown",
      "source": [
        "#### Predict the testing data\n",
        "To do evaluation on both model, we must first conduct prediction for each model using the testing set. To do so, we can use:\n",
        "```\n",
        "[model name].predict([testing set])\n",
        "```"
      ],
      "metadata": {
        "id": "GpsH3kYVoX8r"
      }
    },
    {
      "cell_type": "code",
      "source": [
        "base_test_predict = base_model.predict(testX)\n",
        "attention_test_predict = model_attention.predict(testX)"
      ],
      "metadata": {
        "colab": {
          "base_uri": "https://localhost:8080/"
        },
        "id": "Jlp10NR2Fd-s",
        "outputId": "09750ee3-734d-4ac0-c1cf-a8fda5d31101"
      },
      "execution_count": null,
      "outputs": [
        {
          "output_type": "stream",
          "name": "stdout",
          "text": [
            "12/12 [==============================] - 1s 5ms/step\n",
            "12/12 [==============================] - 2s 6ms/step\n"
          ]
        }
      ]
    },
    {
      "cell_type": "markdown",
      "source": [
        "#### Inverse transformation of the predictions\n",
        "After predicting the testing data, we have to inverse the transformation on the predictions and actual values back to their original scale before the preprocessing phase."
      ],
      "metadata": {
        "id": "ZZeJWjaKoYjd"
      }
    },
    {
      "cell_type": "code",
      "source": [
        "base_predict = scaler.inverse_transform(base_test_predict)\n",
        "attention_predict = scaler.inverse_transform(attention_test_predict)"
      ],
      "metadata": {
        "id": "MITmMs3lHrBY"
      },
      "execution_count": null,
      "outputs": []
    },
    {
      "cell_type": "code",
      "source": [
        "testY = scaler.inverse_transform(testY)"
      ],
      "metadata": {
        "id": "sRKEJvyRRodk"
      },
      "execution_count": null,
      "outputs": []
    },
    {
      "cell_type": "markdown",
      "source": [
        "#### Calculate evaluation metrics of both architectures\n",
        "I used 3 different evaluation metrics, which are:\n",
        "1. Mean Absolute Error is an appropriate measure for evaluating the ability of a forecasting model to specify the median of the future values of a series. Since it is absolute, it ignores the positivity or negativity of the error and all indvidual errors are equally weighted.\n",
        "```\n",
        "mean_absolute_error([actual values], [prediction values])\n",
        "```\n",
        "2. Mean Squared Error is suitable for measuring the ability of a model to specify its mean. The squares of each error are added together and then averaged to ensure that all errors are equal in weight and that the direction of the error is irrelevant.\n",
        "```\n",
        "sqrt(mean_squared_error([actual values], [prediction values]))\n",
        "```\n",
        "3. R-Squared also known as the coefficient of determination which expresses the amount of variance in the dependent variable explained by a model. It measures the relationship between predicted and true data on a scale of 0–1. Higher R^2 values for similar datasets represent smaller differences between the predicted data and the true data.\n",
        "```\n",
        "r2_squared([actual values], [prediction values])\n",
        "```\n",
        "\n",
        "Sources:\n",
        "1. Mitra, A., et. al. (2022). A Comparative Study of Demand Forecasting Models for a Multi-Channel Retail Company: A Novel Hybrid Machine Learning Approach. *Operations Research Forum, 3*(58).; https://link.springer.com/article/10.1007/s43069-022-00166-4\n",
        "2. Spiliotis, E., Petropoulos, F., & Assimakopoulos, V. (2023). On the Disagreement of Forecasting Model Selection Criteria. *Forcasting 2023, 5*(2), 487-498.; https://www.mdpi.com/2571-9394/5/2/27"
      ],
      "metadata": {
        "id": "5rRxnRNQ1J6o"
      }
    },
    {
      "cell_type": "code",
      "source": [
        "base_mae = mean_absolute_error(testY, base_predict)\n",
        "base_mse = mean_squared_error(testY, base_predict)\n",
        "base_r2 = r2_score(testY, base_predict)\n",
        "\n",
        "print(\"Base Architecure Metrics:\")\n",
        "print(\"MSE: \", base_mse)\n",
        "print(\"MAE: \", base_mae)\n",
        "print(\"R2: \", base_r2)"
      ],
      "metadata": {
        "colab": {
          "base_uri": "https://localhost:8080/"
        },
        "id": "O3HAmkQGGNdO",
        "outputId": "0321a9ac-8f5f-4813-9dc2-e894bf2d0bba"
      },
      "execution_count": null,
      "outputs": [
        {
          "output_type": "stream",
          "name": "stdout",
          "text": [
            "Base Architecure Metrics:\n",
            "MSE:  7311.455824964833\n",
            "MAE:  48.48826255090041\n",
            "R2:  0.9731385292131443\n"
          ]
        }
      ]
    },
    {
      "cell_type": "code",
      "source": [
        "attention_mae = mean_absolute_error(testY, attention_predict)\n",
        "attention_mse = mean_squared_error(testY, attention_predict)\n",
        "attention_r2 = r2_score(testY, attention_predict)\n",
        "\n",
        "print(\"Sequential Self-Attention Architecure Metrics:\")\n",
        "print(\"MSE: \", attention_mse)\n",
        "print(\"MAE: \", attention_mae)\n",
        "print(\"R2: \", attention_r2)"
      ],
      "metadata": {
        "colab": {
          "base_uri": "https://localhost:8080/"
        },
        "id": "e81k6d4JGIyf",
        "outputId": "1a6bbf1c-3220-4df6-f9a4-d8f7d24aeae1"
      },
      "execution_count": null,
      "outputs": [
        {
          "output_type": "stream",
          "name": "stdout",
          "text": [
            "Sequential Self-Attention Architecure Metrics:\n",
            "MSE:  8779.235865762366\n",
            "MAE:  51.936329889676934\n",
            "R2:  0.9677460695400938\n"
          ]
        }
      ]
    },
    {
      "cell_type": "markdown",
      "source": [
        "Comparison:\n",
        "- Base MSE: 7311.45 and Sequential Self-Attention MSE: 8779.24 ⟶ the base architecture has lower MSE value, meaning that the base architecture has a better performance since the lower the MSE, the closer is prediction to actual.\n",
        "- Base MAE: 48.49 and Sequential Self-Attention MAE: 51.94 ⟶ the base architecture gives a lower MAE value, meaning that the base architecture has a better performance since the lower the MAE, the closer is prediction to actual.\n",
        "- Base R^2: 0.973 and Sequential Self-Attention R^2: 0.968 ⟶ the base architecture is slightly better output where 97.3% closing stock price can be explained by the base model, whereas the modified model can only explain 96.8%.\n",
        "\n",
        "<br>\n",
        "\n",
        "Conclusion:\n",
        "Based on the 3 metrics above, it can be concluded that the base architecture has a better performance."
      ],
      "metadata": {
        "id": "z154TNBu1Iti"
      }
    },
    {
      "cell_type": "markdown",
      "source": [
        "### F. Base Prediction vs. Self Attention Prediction vs. Actual Values"
      ],
      "metadata": {
        "id": "t1Z2TdQrgryg"
      }
    },
    {
      "cell_type": "code",
      "source": [
        "base_predict_flat = base_predict.flatten()\n",
        "attention_predict_flat = attention_predict.flatten()\n",
        "\n",
        "plt.figure(figsize = (20, 8))\n",
        "\n",
        "plt.plot(testY, label = \"Actual Values\", linestyle = 'solid', color = 'silver')\n",
        "plt.plot(base_predict_flat, label = \"Base Model\", linestyle = 'dashed', color = 'mediumorchid')\n",
        "plt.plot(attention_predict_flat, label = \"Sequential Self-Attention Model\", linestyle = (0, (1, 1)), color = 'gold')\n",
        "\n",
        "plt.title(\"Model Predictions vs. Actual Values\", size = 15)\n",
        "plt.xlabel(\"Time Steps\")\n",
        "plt.ylabel(\"Stock Closing Price\")\n",
        "plt.legend()\n",
        "\n",
        "plt.show()"
      ],
      "metadata": {
        "colab": {
          "base_uri": "https://localhost:8080/",
          "height": 376
        },
        "id": "MskJdaNkKCf4",
        "outputId": "7cd0b314-0c93-41c2-c017-2158bdd16231"
      },
      "execution_count": null,
      "outputs": [
        {
          "output_type": "display_data",
          "data": {
            "text/plain": [
              "<Figure size 2000x800 with 1 Axes>"
            ],
            "image/png": "[encoded data removed]"
          },
          "metadata": {}
        }
      ]
    },
    {
      "cell_type": "markdown",
      "source": [
        "Based on the line graph above, it can be seen that both model actual did a really great job on predicting the stock's closing price since both line never did stray far away from the actual line."
      ],
      "metadata": {
        "id": "OjctTGqZ1Kxn"
      }
    }
  ]
}